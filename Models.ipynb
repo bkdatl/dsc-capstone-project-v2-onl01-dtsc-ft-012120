{
 "cells": [
  {
   "cell_type": "code",
   "execution_count": 3,
   "metadata": {
    "ExecuteTime": {
     "end_time": "2020-06-10T19:15:01.655360Z",
     "start_time": "2020-06-10T19:15:01.647420Z"
    }
   },
   "outputs": [],
   "source": [
    "import xgboost as xgb\n",
    "from sklearn.metrics import roc_auc_score, accuracy_score\n",
    "\n",
    "from sklearn.model_selection import StratifiedKFold\n",
    "from sklearn.model_selection import cross_val_score\n",
    "from functools import partial\n",
    "\n",
    "import seaborn as sns\n",
    "\n",
    "import pickle"
   ]
  },
  {
   "cell_type": "code",
   "execution_count": null,
   "metadata": {},
   "outputs": [],
   "source": [
    "df = pd.read_csv('#EXPORT OF DATASET GOES HERE', low_memory=False)\n",
    "df.shape\n"
   ]
  },
  {
   "cell_type": "code",
   "execution_count": null,
   "metadata": {},
   "outputs": [],
   "source": [
    "X = df.drop(columns=['home_team_win', 'game_id'])\n",
    "y = df.home_team_win"
   ]
  },
  {
   "cell_type": "code",
   "execution_count": null,
   "metadata": {},
   "outputs": [],
   "source": [
    "def train_xgb(params):\n",
    "    for i in range(10):\n",
    "        params['max_depth'] = int(params['max_depth'])\n",
    "        gbm = xgb.XGBClassifier(**params, num_boost_round=100, random_state=13, n_jobs=-1)\n",
    "        model = gbm.fit(X_train, y_train,\n",
    "                        verbose=False,\n",
    "                        eval_set = [[X_train, y_train],\n",
    "                                  [X_valid, y_valid]],\n",
    "                        early_stopping_rounds=15,\n",
    "                        callbacks=[XGBCallback])\n",
    "        xgb_test_preds = model.predict(X_valid)\n",
    "        proba = model.predict_proba(X_valid)[:,1]\n",
    "\n",
    "        #penalize low discrimination\n",
    "        score = roc_auc_score(y_valid, xgb_test_preds)\n",
    "        if max(proba)<.7 and min(proba)>.3: score -= 0.05\n",
    "\n",
    "        tune.track.log(mean_accuracy=score, done=True)\n",
    "\n"
   ]
  },
  {
   "cell_type": "code",
   "execution_count": null,
   "metadata": {},
   "outputs": [],
   "source": [
    "num_threads = 6\n",
    "config = {\n",
    "    \"verbosity\": 0,\n",
    "    \"num_threads\": num_threads,\n",
    "    \"objective\": \"binary:logistic\",\n",
    "    \"eval_metric\": [\"auc\", \"logloss\"],\n",
    "}\n",
    "\n",
    "from ray.tune.schedulers import ASHAScheduler\n",
    "space = {\n",
    "    \"max_depth\": (10, 20),\n",
    "    \"min_child_weight\": (2, 10),\n",
    "    \"learning_rate\": (0.01,0.1),\n",
    "    \"subsample\":(0.1,1),\n",
    "    \"colsample_bytree\":(0.1,1),\n",
    "    \"reg_alpha\": (1e-2, 1e2),\n",
    "    \"gamma\": (1e-8, 1.0),\n",
    "}\n",
    "\n",
    "algo = BayesOptSearch(\n",
    "    space,\n",
    "    max_concurrent=2,\n",
    "    metric=\"mean_accuracy\",\n",
    "    mode=\"max\",\n",
    "    utility_kwargs={\n",
    "            \"kind\": \"ucb\",\n",
    "            \"kappa\": 2.5,\n",
    "            \"xi\": 0.0,\n",
    "        },\n",
    ")\n",
    "\n",
    "results = tune.run(\n",
    "    train_xgb,\n",
    "    num_samples=500,\n",
    "    search_alg=algo,\n",
    "    scheduler=ASHAScheduler(metric=\"eval-logloss\", mode=\"min\"),\n",
    ")"
   ]
  }
 ],
 "metadata": {
  "kernelspec": {
   "display_name": "Python [conda env:learn-env] *",
   "language": "python",
   "name": "conda-env-learn-env-py"
  },
  "language_info": {
   "codemirror_mode": {
    "name": "ipython",
    "version": 3
   },
   "file_extension": ".py",
   "mimetype": "text/x-python",
   "name": "python",
   "nbconvert_exporter": "python",
   "pygments_lexer": "ipython3",
   "version": "3.6.9"
  },
  "toc": {
   "base_numbering": 1,
   "nav_menu": {},
   "number_sections": true,
   "sideBar": true,
   "skip_h1_title": false,
   "title_cell": "Table of Contents",
   "title_sidebar": "Contents",
   "toc_cell": false,
   "toc_position": {},
   "toc_section_display": true,
   "toc_window_display": false
  }
 },
 "nbformat": 4,
 "nbformat_minor": 2
}
