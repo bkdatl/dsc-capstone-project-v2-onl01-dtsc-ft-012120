{
 "cells": [
  {
   "cell_type": "markdown",
   "metadata": {},
   "source": [
    "# Capstone Project - Utilizing learning models to evaluate team and player performance on MLB statistics. "
   ]
  },
  {
   "cell_type": "markdown",
   "metadata": {},
   "source": [
    "## Data Cleaning and Examination "
   ]
  },
  {
   "cell_type": "markdown",
   "metadata": {},
   "source": [
    "Baseball statistics have been kept for generation upon generations. With the plethora of data available certain metrics can be measured to determine and evaluate play of teams and individual players. The challenge in baseball is that while it is a team sport, during batting you end up with one batter versus an entire team. My original plan for this project was to use the Microsoft 'Trueskill' library to create individual player metrics of that player versus a particular opponent. However, that quickly grew outside my capabilities at this time as creating an evaluation metric for both the individual player verses the entire 9 players on the team was extremely difficult. If you do a web search for predictive models for baseball, the results are very limited, this is because baseball has so many variables. Evaluating individual player performance is difficult enough, however when you add the complexity of additional environmental factors, pitch selection, walk/K rates, just to name a few, the evaluations become increasingly complex and difficult to manage and get meaningful results from. "
   ]
  },
  {
   "cell_type": "code",
   "execution_count": 1,
   "metadata": {
    "ExecuteTime": {
     "end_time": "2020-06-29T12:22:53.697125Z",
     "start_time": "2020-06-29T12:22:50.135119Z"
    }
   },
   "outputs": [],
   "source": [
    "# Importing Necessary Libraies \n",
    "import os\n",
    "import pandas as pd\n",
    "import seaborn as sns\n",
    "import matplotlib.pyplot as plt \n",
    "import matplotlib as mpl\n",
    "import numpy as np\n",
    "%matplotlib inline"
   ]
  },
  {
   "cell_type": "code",
   "execution_count": 2,
   "metadata": {
    "ExecuteTime": {
     "end_time": "2020-06-29T12:22:54.006108Z",
     "start_time": "2020-06-29T12:22:53.722470Z"
    }
   },
   "outputs": [],
   "source": [
    "#importing data\n",
    "atl_wins_df = pd.read_csv('csv_files/atl_wins.csv')\n",
    "team_stats_df = pd.read_csv('csv_files/team_stats.csv')\n",
    "batting_stats_df = pd.read_csv('csv_files/batting_stats.csv') \n",
    "sp_stats_df = pd.read_csv('csv_files/sp_stats.csv')"
   ]
  },
  {
   "cell_type": "code",
   "execution_count": 3,
   "metadata": {
    "ExecuteTime": {
     "end_time": "2020-06-29T12:22:54.264134Z",
     "start_time": "2020-06-29T12:22:54.027930Z"
    }
   },
   "outputs": [
    {
     "data": {
      "text/html": [
       "<div>\n",
       "<style scoped>\n",
       "    .dataframe tbody tr th:only-of-type {\n",
       "        vertical-align: middle;\n",
       "    }\n",
       "\n",
       "    .dataframe tbody tr th {\n",
       "        vertical-align: top;\n",
       "    }\n",
       "\n",
       "    .dataframe thead th {\n",
       "        text-align: right;\n",
       "    }\n",
       "</style>\n",
       "<table border=\"1\" class=\"dataframe\">\n",
       "  <thead>\n",
       "    <tr style=\"text-align: right;\">\n",
       "      <th></th>\n",
       "      <th>Name</th>\n",
       "      <th>Team</th>\n",
       "      <th>W</th>\n",
       "      <th>L</th>\n",
       "      <th>SV</th>\n",
       "      <th>G</th>\n",
       "      <th>GS</th>\n",
       "      <th>IP</th>\n",
       "      <th>K/9</th>\n",
       "      <th>BB/9</th>\n",
       "      <th>HR/9</th>\n",
       "      <th>BABIP</th>\n",
       "      <th>LOB%</th>\n",
       "      <th>GB%</th>\n",
       "      <th>HR/FB</th>\n",
       "      <th>ERA</th>\n",
       "      <th>FIP</th>\n",
       "      <th>xFIP</th>\n",
       "      <th>WAR</th>\n",
       "      <th>playerid</th>\n",
       "    </tr>\n",
       "  </thead>\n",
       "  <tbody>\n",
       "    <tr>\n",
       "      <td>0</td>\n",
       "      <td>Gerrit Cole</td>\n",
       "      <td>Astros</td>\n",
       "      <td>20</td>\n",
       "      <td>5</td>\n",
       "      <td>0</td>\n",
       "      <td>33</td>\n",
       "      <td>33</td>\n",
       "      <td>212.1</td>\n",
       "      <td>13.82</td>\n",
       "      <td>2.03</td>\n",
       "      <td>1.23</td>\n",
       "      <td>0.275</td>\n",
       "      <td>83.3%</td>\n",
       "      <td>40.3%</td>\n",
       "      <td>16.9%</td>\n",
       "      <td>2.50</td>\n",
       "      <td>2.64</td>\n",
       "      <td>2.48</td>\n",
       "      <td>7.4</td>\n",
       "      <td>13125</td>\n",
       "    </tr>\n",
       "    <tr>\n",
       "      <td>1</td>\n",
       "      <td>Jacob deGrom</td>\n",
       "      <td>Mets</td>\n",
       "      <td>11</td>\n",
       "      <td>8</td>\n",
       "      <td>0</td>\n",
       "      <td>32</td>\n",
       "      <td>32</td>\n",
       "      <td>204.0</td>\n",
       "      <td>11.25</td>\n",
       "      <td>1.94</td>\n",
       "      <td>0.84</td>\n",
       "      <td>0.282</td>\n",
       "      <td>81.8%</td>\n",
       "      <td>44.4%</td>\n",
       "      <td>11.2%</td>\n",
       "      <td>2.43</td>\n",
       "      <td>2.67</td>\n",
       "      <td>3.11</td>\n",
       "      <td>7.0</td>\n",
       "      <td>10954</td>\n",
       "    </tr>\n",
       "    <tr>\n",
       "      <td>2</td>\n",
       "      <td>Lance Lynn</td>\n",
       "      <td>Rangers</td>\n",
       "      <td>16</td>\n",
       "      <td>11</td>\n",
       "      <td>0</td>\n",
       "      <td>33</td>\n",
       "      <td>33</td>\n",
       "      <td>208.1</td>\n",
       "      <td>10.63</td>\n",
       "      <td>2.55</td>\n",
       "      <td>0.91</td>\n",
       "      <td>0.322</td>\n",
       "      <td>74.4%</td>\n",
       "      <td>40.3%</td>\n",
       "      <td>9.9%</td>\n",
       "      <td>3.67</td>\n",
       "      <td>3.13</td>\n",
       "      <td>3.85</td>\n",
       "      <td>6.8</td>\n",
       "      <td>2520</td>\n",
       "    </tr>\n",
       "    <tr>\n",
       "      <td>3</td>\n",
       "      <td>Max Scherzer</td>\n",
       "      <td>Nationals</td>\n",
       "      <td>11</td>\n",
       "      <td>7</td>\n",
       "      <td>0</td>\n",
       "      <td>27</td>\n",
       "      <td>27</td>\n",
       "      <td>172.1</td>\n",
       "      <td>12.69</td>\n",
       "      <td>1.72</td>\n",
       "      <td>0.94</td>\n",
       "      <td>0.321</td>\n",
       "      <td>78.7%</td>\n",
       "      <td>40.8%</td>\n",
       "      <td>11.6%</td>\n",
       "      <td>2.92</td>\n",
       "      <td>2.45</td>\n",
       "      <td>2.88</td>\n",
       "      <td>6.5</td>\n",
       "      <td>3137</td>\n",
       "    </tr>\n",
       "    <tr>\n",
       "      <td>4</td>\n",
       "      <td>Justin Verlander</td>\n",
       "      <td>Astros</td>\n",
       "      <td>21</td>\n",
       "      <td>6</td>\n",
       "      <td>0</td>\n",
       "      <td>34</td>\n",
       "      <td>34</td>\n",
       "      <td>223.0</td>\n",
       "      <td>12.11</td>\n",
       "      <td>1.70</td>\n",
       "      <td>1.45</td>\n",
       "      <td>0.218</td>\n",
       "      <td>88.4%</td>\n",
       "      <td>35.9%</td>\n",
       "      <td>16.0%</td>\n",
       "      <td>2.58</td>\n",
       "      <td>3.27</td>\n",
       "      <td>3.18</td>\n",
       "      <td>6.4</td>\n",
       "      <td>8700</td>\n",
       "    </tr>\n",
       "  </tbody>\n",
       "</table>\n",
       "</div>"
      ],
      "text/plain": [
       "               Name       Team   W   L  SV   G  GS     IP    K/9  BB/9  HR/9  \\\n",
       "0       Gerrit Cole     Astros  20   5   0  33  33  212.1  13.82  2.03  1.23   \n",
       "1      Jacob deGrom       Mets  11   8   0  32  32  204.0  11.25  1.94  0.84   \n",
       "2        Lance Lynn    Rangers  16  11   0  33  33  208.1  10.63  2.55  0.91   \n",
       "3      Max Scherzer  Nationals  11   7   0  27  27  172.1  12.69  1.72  0.94   \n",
       "4  Justin Verlander     Astros  21   6   0  34  34  223.0  12.11  1.70  1.45   \n",
       "\n",
       "   BABIP   LOB%    GB%  HR/FB   ERA   FIP  xFIP  WAR  playerid  \n",
       "0  0.275  83.3%  40.3%  16.9%  2.50  2.64  2.48  7.4     13125  \n",
       "1  0.282  81.8%  44.4%  11.2%  2.43  2.67  3.11  7.0     10954  \n",
       "2  0.322  74.4%  40.3%   9.9%  3.67  3.13  3.85  6.8      2520  \n",
       "3  0.321  78.7%  40.8%  11.6%  2.92  2.45  2.88  6.5      3137  \n",
       "4  0.218  88.4%  35.9%  16.0%  2.58  3.27  3.18  6.4      8700  "
      ]
     },
     "execution_count": 3,
     "metadata": {},
     "output_type": "execute_result"
    }
   ],
   "source": [
    "sp_stats_df.head()"
   ]
  },
  {
   "cell_type": "code",
   "execution_count": 4,
   "metadata": {
    "ExecuteTime": {
     "end_time": "2020-06-29T12:22:54.477285Z",
     "start_time": "2020-06-29T12:22:54.303404Z"
    }
   },
   "outputs": [
    {
     "data": {
      "text/html": [
       "<div>\n",
       "<style scoped>\n",
       "    .dataframe tbody tr th:only-of-type {\n",
       "        vertical-align: middle;\n",
       "    }\n",
       "\n",
       "    .dataframe tbody tr th {\n",
       "        vertical-align: top;\n",
       "    }\n",
       "\n",
       "    .dataframe thead th {\n",
       "        text-align: right;\n",
       "    }\n",
       "</style>\n",
       "<table border=\"1\" class=\"dataframe\">\n",
       "  <thead>\n",
       "    <tr style=\"text-align: right;\">\n",
       "      <th></th>\n",
       "      <th>W</th>\n",
       "      <th>L</th>\n",
       "      <th>SV</th>\n",
       "      <th>G</th>\n",
       "      <th>GS</th>\n",
       "      <th>IP</th>\n",
       "      <th>K/9</th>\n",
       "      <th>BB/9</th>\n",
       "      <th>HR/9</th>\n",
       "      <th>BABIP</th>\n",
       "      <th>ERA</th>\n",
       "      <th>FIP</th>\n",
       "      <th>xFIP</th>\n",
       "      <th>WAR</th>\n",
       "      <th>playerid</th>\n",
       "    </tr>\n",
       "  </thead>\n",
       "  <tbody>\n",
       "    <tr>\n",
       "      <td>W</td>\n",
       "      <td>1.000000</td>\n",
       "      <td>0.645369</td>\n",
       "      <td>NaN</td>\n",
       "      <td>0.892394</td>\n",
       "      <td>0.892394</td>\n",
       "      <td>0.926055</td>\n",
       "      <td>0.128264</td>\n",
       "      <td>-0.178127</td>\n",
       "      <td>-0.157821</td>\n",
       "      <td>-0.168759</td>\n",
       "      <td>-0.212056</td>\n",
       "      <td>-0.245129</td>\n",
       "      <td>-0.247012</td>\n",
       "      <td>0.854639</td>\n",
       "      <td>-0.204371</td>\n",
       "    </tr>\n",
       "    <tr>\n",
       "      <td>L</td>\n",
       "      <td>0.645369</td>\n",
       "      <td>1.000000</td>\n",
       "      <td>NaN</td>\n",
       "      <td>0.854855</td>\n",
       "      <td>0.854855</td>\n",
       "      <td>0.834478</td>\n",
       "      <td>0.016153</td>\n",
       "      <td>-0.175463</td>\n",
       "      <td>-0.097377</td>\n",
       "      <td>-0.119223</td>\n",
       "      <td>-0.175713</td>\n",
       "      <td>-0.178761</td>\n",
       "      <td>-0.191926</td>\n",
       "      <td>0.519866</td>\n",
       "      <td>-0.157495</td>\n",
       "    </tr>\n",
       "    <tr>\n",
       "      <td>SV</td>\n",
       "      <td>NaN</td>\n",
       "      <td>NaN</td>\n",
       "      <td>NaN</td>\n",
       "      <td>NaN</td>\n",
       "      <td>NaN</td>\n",
       "      <td>NaN</td>\n",
       "      <td>NaN</td>\n",
       "      <td>NaN</td>\n",
       "      <td>NaN</td>\n",
       "      <td>NaN</td>\n",
       "      <td>NaN</td>\n",
       "      <td>NaN</td>\n",
       "      <td>NaN</td>\n",
       "      <td>NaN</td>\n",
       "      <td>NaN</td>\n",
       "    </tr>\n",
       "    <tr>\n",
       "      <td>G</td>\n",
       "      <td>0.892394</td>\n",
       "      <td>0.854855</td>\n",
       "      <td>NaN</td>\n",
       "      <td>1.000000</td>\n",
       "      <td>1.000000</td>\n",
       "      <td>0.984921</td>\n",
       "      <td>0.117231</td>\n",
       "      <td>-0.213440</td>\n",
       "      <td>-0.162899</td>\n",
       "      <td>-0.184550</td>\n",
       "      <td>-0.244349</td>\n",
       "      <td>-0.267251</td>\n",
       "      <td>-0.274731</td>\n",
       "      <td>0.778819</td>\n",
       "      <td>-0.197564</td>\n",
       "    </tr>\n",
       "    <tr>\n",
       "      <td>GS</td>\n",
       "      <td>0.892394</td>\n",
       "      <td>0.854855</td>\n",
       "      <td>NaN</td>\n",
       "      <td>1.000000</td>\n",
       "      <td>1.000000</td>\n",
       "      <td>0.984921</td>\n",
       "      <td>0.117231</td>\n",
       "      <td>-0.213440</td>\n",
       "      <td>-0.162899</td>\n",
       "      <td>-0.184550</td>\n",
       "      <td>-0.244349</td>\n",
       "      <td>-0.267251</td>\n",
       "      <td>-0.274731</td>\n",
       "      <td>0.778819</td>\n",
       "      <td>-0.197564</td>\n",
       "    </tr>\n",
       "    <tr>\n",
       "      <td>IP</td>\n",
       "      <td>0.926055</td>\n",
       "      <td>0.834478</td>\n",
       "      <td>NaN</td>\n",
       "      <td>0.984921</td>\n",
       "      <td>0.984921</td>\n",
       "      <td>1.000000</td>\n",
       "      <td>0.111333</td>\n",
       "      <td>-0.208566</td>\n",
       "      <td>-0.160721</td>\n",
       "      <td>-0.184109</td>\n",
       "      <td>-0.237838</td>\n",
       "      <td>-0.261609</td>\n",
       "      <td>-0.268155</td>\n",
       "      <td>0.829339</td>\n",
       "      <td>-0.194578</td>\n",
       "    </tr>\n",
       "    <tr>\n",
       "      <td>K/9</td>\n",
       "      <td>0.128264</td>\n",
       "      <td>0.016153</td>\n",
       "      <td>NaN</td>\n",
       "      <td>0.117231</td>\n",
       "      <td>0.117231</td>\n",
       "      <td>0.111333</td>\n",
       "      <td>1.000000</td>\n",
       "      <td>-0.119181</td>\n",
       "      <td>-0.172663</td>\n",
       "      <td>0.247946</td>\n",
       "      <td>-0.122489</td>\n",
       "      <td>-0.336133</td>\n",
       "      <td>-0.448324</td>\n",
       "      <td>0.240553</td>\n",
       "      <td>0.006019</td>\n",
       "    </tr>\n",
       "    <tr>\n",
       "      <td>BB/9</td>\n",
       "      <td>-0.178127</td>\n",
       "      <td>-0.175463</td>\n",
       "      <td>NaN</td>\n",
       "      <td>-0.213440</td>\n",
       "      <td>-0.213440</td>\n",
       "      <td>-0.208566</td>\n",
       "      <td>-0.119181</td>\n",
       "      <td>1.000000</td>\n",
       "      <td>0.052791</td>\n",
       "      <td>0.377381</td>\n",
       "      <td>0.609086</td>\n",
       "      <td>0.616923</td>\n",
       "      <td>0.865470</td>\n",
       "      <td>-0.166082</td>\n",
       "      <td>0.111006</td>\n",
       "    </tr>\n",
       "    <tr>\n",
       "      <td>HR/9</td>\n",
       "      <td>-0.157821</td>\n",
       "      <td>-0.097377</td>\n",
       "      <td>NaN</td>\n",
       "      <td>-0.162899</td>\n",
       "      <td>-0.162899</td>\n",
       "      <td>-0.160721</td>\n",
       "      <td>-0.172663</td>\n",
       "      <td>0.052791</td>\n",
       "      <td>1.000000</td>\n",
       "      <td>0.179682</td>\n",
       "      <td>0.511803</td>\n",
       "      <td>0.799696</td>\n",
       "      <td>0.314505</td>\n",
       "      <td>-0.206354</td>\n",
       "      <td>-0.039933</td>\n",
       "    </tr>\n",
       "    <tr>\n",
       "      <td>BABIP</td>\n",
       "      <td>-0.168759</td>\n",
       "      <td>-0.119223</td>\n",
       "      <td>NaN</td>\n",
       "      <td>-0.184550</td>\n",
       "      <td>-0.184550</td>\n",
       "      <td>-0.184109</td>\n",
       "      <td>0.247946</td>\n",
       "      <td>0.377381</td>\n",
       "      <td>0.179682</td>\n",
       "      <td>1.000000</td>\n",
       "      <td>0.589187</td>\n",
       "      <td>0.343962</td>\n",
       "      <td>0.324799</td>\n",
       "      <td>-0.137284</td>\n",
       "      <td>0.043988</td>\n",
       "    </tr>\n",
       "    <tr>\n",
       "      <td>ERA</td>\n",
       "      <td>-0.212056</td>\n",
       "      <td>-0.175713</td>\n",
       "      <td>NaN</td>\n",
       "      <td>-0.244349</td>\n",
       "      <td>-0.244349</td>\n",
       "      <td>-0.237838</td>\n",
       "      <td>-0.122489</td>\n",
       "      <td>0.609086</td>\n",
       "      <td>0.511803</td>\n",
       "      <td>0.589187</td>\n",
       "      <td>1.000000</td>\n",
       "      <td>0.781091</td>\n",
       "      <td>0.738746</td>\n",
       "      <td>-0.207012</td>\n",
       "      <td>0.001171</td>\n",
       "    </tr>\n",
       "    <tr>\n",
       "      <td>FIP</td>\n",
       "      <td>-0.245129</td>\n",
       "      <td>-0.178761</td>\n",
       "      <td>NaN</td>\n",
       "      <td>-0.267251</td>\n",
       "      <td>-0.267251</td>\n",
       "      <td>-0.261609</td>\n",
       "      <td>-0.336133</td>\n",
       "      <td>0.616923</td>\n",
       "      <td>0.799696</td>\n",
       "      <td>0.343962</td>\n",
       "      <td>0.781091</td>\n",
       "      <td>1.000000</td>\n",
       "      <td>0.798968</td>\n",
       "      <td>-0.291737</td>\n",
       "      <td>0.028447</td>\n",
       "    </tr>\n",
       "    <tr>\n",
       "      <td>xFIP</td>\n",
       "      <td>-0.247012</td>\n",
       "      <td>-0.191926</td>\n",
       "      <td>NaN</td>\n",
       "      <td>-0.274731</td>\n",
       "      <td>-0.274731</td>\n",
       "      <td>-0.268155</td>\n",
       "      <td>-0.448324</td>\n",
       "      <td>0.865470</td>\n",
       "      <td>0.314505</td>\n",
       "      <td>0.324799</td>\n",
       "      <td>0.738746</td>\n",
       "      <td>0.798968</td>\n",
       "      <td>1.000000</td>\n",
       "      <td>-0.271060</td>\n",
       "      <td>0.069770</td>\n",
       "    </tr>\n",
       "    <tr>\n",
       "      <td>WAR</td>\n",
       "      <td>0.854639</td>\n",
       "      <td>0.519866</td>\n",
       "      <td>NaN</td>\n",
       "      <td>0.778819</td>\n",
       "      <td>0.778819</td>\n",
       "      <td>0.829339</td>\n",
       "      <td>0.240553</td>\n",
       "      <td>-0.166082</td>\n",
       "      <td>-0.206354</td>\n",
       "      <td>-0.137284</td>\n",
       "      <td>-0.207012</td>\n",
       "      <td>-0.291737</td>\n",
       "      <td>-0.271060</td>\n",
       "      <td>1.000000</td>\n",
       "      <td>-0.146590</td>\n",
       "    </tr>\n",
       "    <tr>\n",
       "      <td>playerid</td>\n",
       "      <td>-0.204371</td>\n",
       "      <td>-0.157495</td>\n",
       "      <td>NaN</td>\n",
       "      <td>-0.197564</td>\n",
       "      <td>-0.197564</td>\n",
       "      <td>-0.194578</td>\n",
       "      <td>0.006019</td>\n",
       "      <td>0.111006</td>\n",
       "      <td>-0.039933</td>\n",
       "      <td>0.043988</td>\n",
       "      <td>0.001171</td>\n",
       "      <td>0.028447</td>\n",
       "      <td>0.069770</td>\n",
       "      <td>-0.146590</td>\n",
       "      <td>1.000000</td>\n",
       "    </tr>\n",
       "  </tbody>\n",
       "</table>\n",
       "</div>"
      ],
      "text/plain": [
       "                 W         L  SV         G        GS        IP       K/9  \\\n",
       "W         1.000000  0.645369 NaN  0.892394  0.892394  0.926055  0.128264   \n",
       "L         0.645369  1.000000 NaN  0.854855  0.854855  0.834478  0.016153   \n",
       "SV             NaN       NaN NaN       NaN       NaN       NaN       NaN   \n",
       "G         0.892394  0.854855 NaN  1.000000  1.000000  0.984921  0.117231   \n",
       "GS        0.892394  0.854855 NaN  1.000000  1.000000  0.984921  0.117231   \n",
       "IP        0.926055  0.834478 NaN  0.984921  0.984921  1.000000  0.111333   \n",
       "K/9       0.128264  0.016153 NaN  0.117231  0.117231  0.111333  1.000000   \n",
       "BB/9     -0.178127 -0.175463 NaN -0.213440 -0.213440 -0.208566 -0.119181   \n",
       "HR/9     -0.157821 -0.097377 NaN -0.162899 -0.162899 -0.160721 -0.172663   \n",
       "BABIP    -0.168759 -0.119223 NaN -0.184550 -0.184550 -0.184109  0.247946   \n",
       "ERA      -0.212056 -0.175713 NaN -0.244349 -0.244349 -0.237838 -0.122489   \n",
       "FIP      -0.245129 -0.178761 NaN -0.267251 -0.267251 -0.261609 -0.336133   \n",
       "xFIP     -0.247012 -0.191926 NaN -0.274731 -0.274731 -0.268155 -0.448324   \n",
       "WAR       0.854639  0.519866 NaN  0.778819  0.778819  0.829339  0.240553   \n",
       "playerid -0.204371 -0.157495 NaN -0.197564 -0.197564 -0.194578  0.006019   \n",
       "\n",
       "              BB/9      HR/9     BABIP       ERA       FIP      xFIP  \\\n",
       "W        -0.178127 -0.157821 -0.168759 -0.212056 -0.245129 -0.247012   \n",
       "L        -0.175463 -0.097377 -0.119223 -0.175713 -0.178761 -0.191926   \n",
       "SV             NaN       NaN       NaN       NaN       NaN       NaN   \n",
       "G        -0.213440 -0.162899 -0.184550 -0.244349 -0.267251 -0.274731   \n",
       "GS       -0.213440 -0.162899 -0.184550 -0.244349 -0.267251 -0.274731   \n",
       "IP       -0.208566 -0.160721 -0.184109 -0.237838 -0.261609 -0.268155   \n",
       "K/9      -0.119181 -0.172663  0.247946 -0.122489 -0.336133 -0.448324   \n",
       "BB/9      1.000000  0.052791  0.377381  0.609086  0.616923  0.865470   \n",
       "HR/9      0.052791  1.000000  0.179682  0.511803  0.799696  0.314505   \n",
       "BABIP     0.377381  0.179682  1.000000  0.589187  0.343962  0.324799   \n",
       "ERA       0.609086  0.511803  0.589187  1.000000  0.781091  0.738746   \n",
       "FIP       0.616923  0.799696  0.343962  0.781091  1.000000  0.798968   \n",
       "xFIP      0.865470  0.314505  0.324799  0.738746  0.798968  1.000000   \n",
       "WAR      -0.166082 -0.206354 -0.137284 -0.207012 -0.291737 -0.271060   \n",
       "playerid  0.111006 -0.039933  0.043988  0.001171  0.028447  0.069770   \n",
       "\n",
       "               WAR  playerid  \n",
       "W         0.854639 -0.204371  \n",
       "L         0.519866 -0.157495  \n",
       "SV             NaN       NaN  \n",
       "G         0.778819 -0.197564  \n",
       "GS        0.778819 -0.197564  \n",
       "IP        0.829339 -0.194578  \n",
       "K/9       0.240553  0.006019  \n",
       "BB/9     -0.166082  0.111006  \n",
       "HR/9     -0.206354 -0.039933  \n",
       "BABIP    -0.137284  0.043988  \n",
       "ERA      -0.207012  0.001171  \n",
       "FIP      -0.291737  0.028447  \n",
       "xFIP     -0.271060  0.069770  \n",
       "WAR       1.000000 -0.146590  \n",
       "playerid -0.146590  1.000000  "
      ]
     },
     "execution_count": 4,
     "metadata": {},
     "output_type": "execute_result"
    }
   ],
   "source": [
    "sp_stats_df.corr()"
   ]
  },
  {
   "cell_type": "code",
   "execution_count": 5,
   "metadata": {
    "ExecuteTime": {
     "end_time": "2020-06-29T12:22:54.583876Z",
     "start_time": "2020-06-29T12:22:54.543871Z"
    }
   },
   "outputs": [],
   "source": [
    "df_atl = atl_wins_df[['Date', 'W/L', 'Win', 'Loss', 'R', 'RA']]"
   ]
  },
  {
   "cell_type": "code",
   "execution_count": 6,
   "metadata": {
    "ExecuteTime": {
     "end_time": "2020-06-29T12:22:54.690733Z",
     "start_time": "2020-06-29T12:22:54.620187Z"
    }
   },
   "outputs": [
    {
     "data": {
      "text/html": [
       "<div>\n",
       "<style scoped>\n",
       "    .dataframe tbody tr th:only-of-type {\n",
       "        vertical-align: middle;\n",
       "    }\n",
       "\n",
       "    .dataframe tbody tr th {\n",
       "        vertical-align: top;\n",
       "    }\n",
       "\n",
       "    .dataframe thead th {\n",
       "        text-align: right;\n",
       "    }\n",
       "</style>\n",
       "<table border=\"1\" class=\"dataframe\">\n",
       "  <thead>\n",
       "    <tr style=\"text-align: right;\">\n",
       "      <th></th>\n",
       "      <th>Date</th>\n",
       "      <th>W/L</th>\n",
       "      <th>Win</th>\n",
       "      <th>Loss</th>\n",
       "      <th>R</th>\n",
       "      <th>RA</th>\n",
       "    </tr>\n",
       "  </thead>\n",
       "  <tbody>\n",
       "    <tr>\n",
       "      <td>0</td>\n",
       "      <td>Thursday Mar 28</td>\n",
       "      <td>L</td>\n",
       "      <td>Nola</td>\n",
       "      <td>Teheran</td>\n",
       "      <td>4</td>\n",
       "      <td>10</td>\n",
       "    </tr>\n",
       "    <tr>\n",
       "      <td>1</td>\n",
       "      <td>Saturday Mar 30</td>\n",
       "      <td>L</td>\n",
       "      <td>Morgan</td>\n",
       "      <td>Parsons</td>\n",
       "      <td>6</td>\n",
       "      <td>8</td>\n",
       "    </tr>\n",
       "    <tr>\n",
       "      <td>2</td>\n",
       "      <td>Sunday Mar 31</td>\n",
       "      <td>L</td>\n",
       "      <td>Arrieta</td>\n",
       "      <td>Wright</td>\n",
       "      <td>1</td>\n",
       "      <td>5</td>\n",
       "    </tr>\n",
       "    <tr>\n",
       "      <td>3</td>\n",
       "      <td>Monday Apr 1</td>\n",
       "      <td>W</td>\n",
       "      <td>Parsons</td>\n",
       "      <td>Hendricks</td>\n",
       "      <td>8</td>\n",
       "      <td>0</td>\n",
       "    </tr>\n",
       "    <tr>\n",
       "      <td>4</td>\n",
       "      <td>Wednesday Apr 3</td>\n",
       "      <td>W</td>\n",
       "      <td>Jackson</td>\n",
       "      <td>Cishek</td>\n",
       "      <td>6</td>\n",
       "      <td>4</td>\n",
       "    </tr>\n",
       "  </tbody>\n",
       "</table>\n",
       "</div>"
      ],
      "text/plain": [
       "              Date W/L      Win       Loss  R  RA\n",
       "0  Thursday Mar 28   L     Nola    Teheran  4  10\n",
       "1  Saturday Mar 30   L   Morgan    Parsons  6   8\n",
       "2    Sunday Mar 31   L  Arrieta     Wright  1   5\n",
       "3     Monday Apr 1   W  Parsons  Hendricks  8   0\n",
       "4  Wednesday Apr 3   W  Jackson     Cishek  6   4"
      ]
     },
     "execution_count": 6,
     "metadata": {},
     "output_type": "execute_result"
    }
   ],
   "source": [
    "df_atl.head()"
   ]
  },
  {
   "cell_type": "code",
   "execution_count": 7,
   "metadata": {
    "ExecuteTime": {
     "end_time": "2020-06-29T12:22:54.703769Z",
     "start_time": "2020-06-29T12:22:54.696164Z"
    }
   },
   "outputs": [],
   "source": [
    "df_atl_wp= df_atl[['Win']]"
   ]
  },
  {
   "cell_type": "code",
   "execution_count": 8,
   "metadata": {
    "ExecuteTime": {
     "end_time": "2020-06-29T12:22:54.778510Z",
     "start_time": "2020-06-29T12:22:54.731694Z"
    }
   },
   "outputs": [],
   "source": [
    "df_atl_lp= df_atl[['Loss']]"
   ]
  },
  {
   "cell_type": "code",
   "execution_count": 9,
   "metadata": {
    "ExecuteTime": {
     "end_time": "2020-06-29T12:22:54.888692Z",
     "start_time": "2020-06-29T12:22:54.849370Z"
    }
   },
   "outputs": [],
   "source": [
    "season_df=pd.read_csv('csv_files/braves_season1.csv'\n",
    "                    )"
   ]
  },
  {
   "cell_type": "code",
   "execution_count": 10,
   "metadata": {
    "ExecuteTime": {
     "end_time": "2020-06-29T12:22:55.063248Z",
     "start_time": "2020-06-29T12:22:54.905957Z"
    },
    "scrolled": true
   },
   "outputs": [
    {
     "data": {
      "text/html": [
       "<div>\n",
       "<style scoped>\n",
       "    .dataframe tbody tr th:only-of-type {\n",
       "        vertical-align: middle;\n",
       "    }\n",
       "\n",
       "    .dataframe tbody tr th {\n",
       "        vertical-align: top;\n",
       "    }\n",
       "\n",
       "    .dataframe thead th {\n",
       "        text-align: right;\n",
       "    }\n",
       "</style>\n",
       "<table border=\"1\" class=\"dataframe\">\n",
       "  <thead>\n",
       "    <tr style=\"text-align: right;\">\n",
       "      <th></th>\n",
       "      <th>Rk</th>\n",
       "      <th>Gtm</th>\n",
       "      <th>Date</th>\n",
       "      <th>Unnamed: 3</th>\n",
       "      <th>Opp</th>\n",
       "      <th>Rslt</th>\n",
       "      <th>PA</th>\n",
       "      <th>AB</th>\n",
       "      <th>R</th>\n",
       "      <th>H</th>\n",
       "      <th>...</th>\n",
       "      <th>SB</th>\n",
       "      <th>CS</th>\n",
       "      <th>BA</th>\n",
       "      <th>OBP</th>\n",
       "      <th>SLG</th>\n",
       "      <th>OPS</th>\n",
       "      <th>LOB</th>\n",
       "      <th>#</th>\n",
       "      <th>Thr</th>\n",
       "      <th>Opp. Starter (GmeSc)</th>\n",
       "    </tr>\n",
       "  </thead>\n",
       "  <tbody>\n",
       "    <tr>\n",
       "      <td>0</td>\n",
       "      <td>1</td>\n",
       "      <td>1</td>\n",
       "      <td>Mar 28</td>\n",
       "      <td>@</td>\n",
       "      <td>PHI</td>\n",
       "      <td>L4-10</td>\n",
       "      <td>36</td>\n",
       "      <td>30</td>\n",
       "      <td>4</td>\n",
       "      <td>7</td>\n",
       "      <td>...</td>\n",
       "      <td>1</td>\n",
       "      <td>1</td>\n",
       "      <td>0.233</td>\n",
       "      <td>0.361</td>\n",
       "      <td>0.367</td>\n",
       "      <td>0.728</td>\n",
       "      <td>5</td>\n",
       "      <td>15</td>\n",
       "      <td>R</td>\n",
       "      <td>A.Nola(67)</td>\n",
       "    </tr>\n",
       "    <tr>\n",
       "      <td>1</td>\n",
       "      <td>2</td>\n",
       "      <td>2</td>\n",
       "      <td>Mar 30</td>\n",
       "      <td>@</td>\n",
       "      <td>PHI</td>\n",
       "      <td>L6-8</td>\n",
       "      <td>40</td>\n",
       "      <td>36</td>\n",
       "      <td>6</td>\n",
       "      <td>10</td>\n",
       "      <td>...</td>\n",
       "      <td>1</td>\n",
       "      <td>0</td>\n",
       "      <td>0.258</td>\n",
       "      <td>0.355</td>\n",
       "      <td>0.470</td>\n",
       "      <td>0.825</td>\n",
       "      <td>7</td>\n",
       "      <td>17</td>\n",
       "      <td>R</td>\n",
       "      <td>N.Pivetta(35)</td>\n",
       "    </tr>\n",
       "    <tr>\n",
       "      <td>2</td>\n",
       "      <td>3</td>\n",
       "      <td>3</td>\n",
       "      <td>Mar 31</td>\n",
       "      <td>@</td>\n",
       "      <td>PHI</td>\n",
       "      <td>L1-5</td>\n",
       "      <td>36</td>\n",
       "      <td>29</td>\n",
       "      <td>1</td>\n",
       "      <td>4</td>\n",
       "      <td>...</td>\n",
       "      <td>1</td>\n",
       "      <td>2</td>\n",
       "      <td>0.221</td>\n",
       "      <td>0.339</td>\n",
       "      <td>0.368</td>\n",
       "      <td>0.708</td>\n",
       "      <td>8</td>\n",
       "      <td>14</td>\n",
       "      <td>R</td>\n",
       "      <td>J.Arrieta(62)</td>\n",
       "    </tr>\n",
       "    <tr>\n",
       "      <td>3</td>\n",
       "      <td>4</td>\n",
       "      <td>4</td>\n",
       "      <td>Apr 1</td>\n",
       "      <td>NaN</td>\n",
       "      <td>CHC</td>\n",
       "      <td>W8-0</td>\n",
       "      <td>43</td>\n",
       "      <td>36</td>\n",
       "      <td>8</td>\n",
       "      <td>12</td>\n",
       "      <td>...</td>\n",
       "      <td>0</td>\n",
       "      <td>0</td>\n",
       "      <td>0.252</td>\n",
       "      <td>0.368</td>\n",
       "      <td>0.427</td>\n",
       "      <td>0.795</td>\n",
       "      <td>11</td>\n",
       "      <td>15</td>\n",
       "      <td>R</td>\n",
       "      <td>K.Hendricks(26)</td>\n",
       "    </tr>\n",
       "    <tr>\n",
       "      <td>4</td>\n",
       "      <td>5</td>\n",
       "      <td>5</td>\n",
       "      <td>Apr 3</td>\n",
       "      <td>NaN</td>\n",
       "      <td>CHC</td>\n",
       "      <td>W6-4</td>\n",
       "      <td>39</td>\n",
       "      <td>30</td>\n",
       "      <td>6</td>\n",
       "      <td>8</td>\n",
       "      <td>...</td>\n",
       "      <td>1</td>\n",
       "      <td>0</td>\n",
       "      <td>0.255</td>\n",
       "      <td>0.376</td>\n",
       "      <td>0.441</td>\n",
       "      <td>0.817</td>\n",
       "      <td>9</td>\n",
       "      <td>16</td>\n",
       "      <td>L</td>\n",
       "      <td>J.Lester(56)</td>\n",
       "    </tr>\n",
       "  </tbody>\n",
       "</table>\n",
       "<p>5 rows × 32 columns</p>\n",
       "</div>"
      ],
      "text/plain": [
       "   Rk  Gtm    Date Unnamed: 3  Opp   Rslt  PA  AB  R   H  ...  SB  CS     BA  \\\n",
       "0   1    1  Mar 28          @  PHI  L4-10  36  30  4   7  ...   1   1  0.233   \n",
       "1   2    2  Mar 30          @  PHI   L6-8  40  36  6  10  ...   1   0  0.258   \n",
       "2   3    3  Mar 31          @  PHI   L1-5  36  29  1   4  ...   1   2  0.221   \n",
       "3   4    4   Apr 1        NaN  CHC   W8-0  43  36  8  12  ...   0   0  0.252   \n",
       "4   5    5   Apr 3        NaN  CHC   W6-4  39  30  6   8  ...   1   0  0.255   \n",
       "\n",
       "     OBP    SLG    OPS  LOB   #  Thr  Opp. Starter (GmeSc)  \n",
       "0  0.361  0.367  0.728    5  15    R            A.Nola(67)  \n",
       "1  0.355  0.470  0.825    7  17    R         N.Pivetta(35)  \n",
       "2  0.339  0.368  0.708    8  14    R         J.Arrieta(62)  \n",
       "3  0.368  0.427  0.795   11  15    R       K.Hendricks(26)  \n",
       "4  0.376  0.441  0.817    9  16    L          J.Lester(56)  \n",
       "\n",
       "[5 rows x 32 columns]"
      ]
     },
     "execution_count": 10,
     "metadata": {},
     "output_type": "execute_result"
    }
   ],
   "source": [
    "season_df.head()"
   ]
  },
  {
   "cell_type": "code",
   "execution_count": 11,
   "metadata": {
    "ExecuteTime": {
     "end_time": "2020-06-29T12:22:55.185323Z",
     "start_time": "2020-06-29T12:22:55.077352Z"
    }
   },
   "outputs": [
    {
     "data": {
      "text/html": [
       "<div>\n",
       "<style scoped>\n",
       "    .dataframe tbody tr th:only-of-type {\n",
       "        vertical-align: middle;\n",
       "    }\n",
       "\n",
       "    .dataframe tbody tr th {\n",
       "        vertical-align: top;\n",
       "    }\n",
       "\n",
       "    .dataframe thead th {\n",
       "        text-align: right;\n",
       "    }\n",
       "</style>\n",
       "<table border=\"1\" class=\"dataframe\">\n",
       "  <thead>\n",
       "    <tr style=\"text-align: right;\">\n",
       "      <th></th>\n",
       "      <th>Date</th>\n",
       "      <th>W/L</th>\n",
       "      <th>Win</th>\n",
       "      <th>Loss</th>\n",
       "      <th>R</th>\n",
       "      <th>RA</th>\n",
       "    </tr>\n",
       "  </thead>\n",
       "  <tbody>\n",
       "    <tr>\n",
       "      <td>0</td>\n",
       "      <td>Thursday Mar 28</td>\n",
       "      <td>L</td>\n",
       "      <td>Nola</td>\n",
       "      <td>Teheran</td>\n",
       "      <td>4</td>\n",
       "      <td>10</td>\n",
       "    </tr>\n",
       "    <tr>\n",
       "      <td>1</td>\n",
       "      <td>Saturday Mar 30</td>\n",
       "      <td>L</td>\n",
       "      <td>Morgan</td>\n",
       "      <td>Parsons</td>\n",
       "      <td>6</td>\n",
       "      <td>8</td>\n",
       "    </tr>\n",
       "    <tr>\n",
       "      <td>2</td>\n",
       "      <td>Sunday Mar 31</td>\n",
       "      <td>L</td>\n",
       "      <td>Arrieta</td>\n",
       "      <td>Wright</td>\n",
       "      <td>1</td>\n",
       "      <td>5</td>\n",
       "    </tr>\n",
       "    <tr>\n",
       "      <td>3</td>\n",
       "      <td>Monday Apr 1</td>\n",
       "      <td>W</td>\n",
       "      <td>Parsons</td>\n",
       "      <td>Hendricks</td>\n",
       "      <td>8</td>\n",
       "      <td>0</td>\n",
       "    </tr>\n",
       "    <tr>\n",
       "      <td>4</td>\n",
       "      <td>Wednesday Apr 3</td>\n",
       "      <td>W</td>\n",
       "      <td>Jackson</td>\n",
       "      <td>Cishek</td>\n",
       "      <td>6</td>\n",
       "      <td>4</td>\n",
       "    </tr>\n",
       "    <tr>\n",
       "      <td>...</td>\n",
       "      <td>...</td>\n",
       "      <td>...</td>\n",
       "      <td>...</td>\n",
       "      <td>...</td>\n",
       "      <td>...</td>\n",
       "      <td>...</td>\n",
       "    </tr>\n",
       "    <tr>\n",
       "      <td>157</td>\n",
       "      <td>Tuesday Sep 24</td>\n",
       "      <td>L</td>\n",
       "      <td>Duffy</td>\n",
       "      <td>Teheran</td>\n",
       "      <td>6</td>\n",
       "      <td>9</td>\n",
       "    </tr>\n",
       "    <tr>\n",
       "      <td>158</td>\n",
       "      <td>Wednesday Sep 25</td>\n",
       "      <td>W</td>\n",
       "      <td>Jackson</td>\n",
       "      <td>Barnes</td>\n",
       "      <td>10</td>\n",
       "      <td>2</td>\n",
       "    </tr>\n",
       "    <tr>\n",
       "      <td>159</td>\n",
       "      <td>Friday Sep 27</td>\n",
       "      <td>L</td>\n",
       "      <td>Stroman</td>\n",
       "      <td>Keuchel</td>\n",
       "      <td>2</td>\n",
       "      <td>4</td>\n",
       "    </tr>\n",
       "    <tr>\n",
       "      <td>160</td>\n",
       "      <td>Saturday Sep 28</td>\n",
       "      <td>L</td>\n",
       "      <td>Matz</td>\n",
       "      <td>Foltynewicz</td>\n",
       "      <td>0</td>\n",
       "      <td>3</td>\n",
       "    </tr>\n",
       "    <tr>\n",
       "      <td>161</td>\n",
       "      <td>Sunday Sep 29</td>\n",
       "      <td>L-wo</td>\n",
       "      <td>Mazza</td>\n",
       "      <td>Dayton</td>\n",
       "      <td>6</td>\n",
       "      <td>7</td>\n",
       "    </tr>\n",
       "  </tbody>\n",
       "</table>\n",
       "<p>162 rows × 6 columns</p>\n",
       "</div>"
      ],
      "text/plain": [
       "                 Date   W/L      Win         Loss   R  RA\n",
       "0     Thursday Mar 28     L     Nola      Teheran   4  10\n",
       "1     Saturday Mar 30     L   Morgan      Parsons   6   8\n",
       "2       Sunday Mar 31     L  Arrieta       Wright   1   5\n",
       "3        Monday Apr 1     W  Parsons    Hendricks   8   0\n",
       "4     Wednesday Apr 3     W  Jackson       Cishek   6   4\n",
       "..                ...   ...      ...          ...  ..  ..\n",
       "157    Tuesday Sep 24     L    Duffy      Teheran   6   9\n",
       "158  Wednesday Sep 25     W  Jackson       Barnes  10   2\n",
       "159     Friday Sep 27     L  Stroman      Keuchel   2   4\n",
       "160   Saturday Sep 28     L     Matz  Foltynewicz   0   3\n",
       "161     Sunday Sep 29  L-wo    Mazza       Dayton   6   7\n",
       "\n",
       "[162 rows x 6 columns]"
      ]
     },
     "execution_count": 11,
     "metadata": {},
     "output_type": "execute_result"
    }
   ],
   "source": [
    "df_atl"
   ]
  },
  {
   "cell_type": "code",
   "execution_count": null,
   "metadata": {
    "ExecuteTime": {
     "end_time": "2020-06-26T06:03:59.047860Z",
     "start_time": "2020-06-26T06:03:59.020822Z"
    }
   },
   "outputs": [],
   "source": []
  },
  {
   "cell_type": "code",
   "execution_count": 12,
   "metadata": {
    "ExecuteTime": {
     "end_time": "2020-06-29T12:22:55.321737Z",
     "start_time": "2020-06-29T12:22:55.190836Z"
    }
   },
   "outputs": [
    {
     "name": "stdout",
     "output_type": "stream",
     "text": [
      "<class 'pandas.core.frame.DataFrame'>\n",
      "RangeIndex: 162 entries, 0 to 161\n",
      "Data columns (total 32 columns):\n",
      "Rk                      162 non-null int64\n",
      "Gtm                     162 non-null int64\n",
      "Date                    162 non-null object\n",
      "Unnamed: 3              81 non-null object\n",
      "Opp                     162 non-null object\n",
      "Rslt                    162 non-null object\n",
      "PA                      162 non-null int64\n",
      "AB                      162 non-null int64\n",
      "R                       162 non-null int64\n",
      "H                       162 non-null int64\n",
      "2B                      162 non-null int64\n",
      "3B                      162 non-null int64\n",
      "HR                      162 non-null int64\n",
      "RBI                     162 non-null int64\n",
      "BB                      162 non-null int64\n",
      "IBB                     162 non-null int64\n",
      "SO                      162 non-null int64\n",
      "HBP                     162 non-null int64\n",
      "SH                      162 non-null int64\n",
      "SF                      162 non-null int64\n",
      "ROE                     162 non-null int64\n",
      "GDP                     162 non-null int64\n",
      "SB                      162 non-null int64\n",
      "CS                      162 non-null int64\n",
      "BA                      162 non-null float64\n",
      "OBP                     162 non-null float64\n",
      "SLG                     162 non-null float64\n",
      "OPS                     162 non-null float64\n",
      "LOB                     162 non-null int64\n",
      "#                       162 non-null int64\n",
      "Thr                     162 non-null object\n",
      "Opp. Starter (GmeSc)    162 non-null object\n",
      "dtypes: float64(4), int64(22), object(6)\n",
      "memory usage: 40.6+ KB\n"
     ]
    }
   ],
   "source": [
    "season_df.info()"
   ]
  },
  {
   "cell_type": "code",
   "execution_count": 13,
   "metadata": {
    "ExecuteTime": {
     "end_time": "2020-06-29T12:22:55.423779Z",
     "start_time": "2020-06-29T12:22:55.381297Z"
    }
   },
   "outputs": [
    {
     "name": "stdout",
     "output_type": "stream",
     "text": [
      "Rk                       0\n",
      "Gtm                      0\n",
      "Date                     0\n",
      "Unnamed: 3              81\n",
      "Opp                      0\n",
      "Rslt                     0\n",
      "PA                       0\n",
      "AB                       0\n",
      "R                        0\n",
      "H                        0\n",
      "2B                       0\n",
      "3B                       0\n",
      "HR                       0\n",
      "RBI                      0\n",
      "BB                       0\n",
      "IBB                      0\n",
      "SO                       0\n",
      "HBP                      0\n",
      "SH                       0\n",
      "SF                       0\n",
      "ROE                      0\n",
      "GDP                      0\n",
      "SB                       0\n",
      "CS                       0\n",
      "BA                       0\n",
      "OBP                      0\n",
      "SLG                      0\n",
      "OPS                      0\n",
      "LOB                      0\n",
      "#                        0\n",
      "Thr                      0\n",
      "Opp. Starter (GmeSc)     0\n",
      "dtype: int64\n"
     ]
    }
   ],
   "source": [
    "print(season_df.isnull().sum(axis=0))"
   ]
  },
  {
   "cell_type": "markdown",
   "metadata": {},
   "source": [
    "There were numerous unused columns in the data so those were removed. "
   ]
  },
  {
   "cell_type": "code",
   "execution_count": 14,
   "metadata": {
    "ExecuteTime": {
     "end_time": "2020-06-29T12:22:55.462843Z",
     "start_time": "2020-06-29T12:22:55.441997Z"
    }
   },
   "outputs": [],
   "source": [
    "season_df[['Rslt']] = season_df['Rslt'].str.slice(stop=1)"
   ]
  },
  {
   "cell_type": "code",
   "execution_count": 15,
   "metadata": {
    "ExecuteTime": {
     "end_time": "2020-06-29T12:22:55.527431Z",
     "start_time": "2020-06-29T12:22:55.482790Z"
    }
   },
   "outputs": [],
   "source": [
    "season_df[['Rslt']] = season_df['Rslt'].map({'W':1, 'L':0})"
   ]
  },
  {
   "cell_type": "markdown",
   "metadata": {
    "ExecuteTime": {
     "end_time": "2020-06-26T06:02:35.209022Z",
     "start_time": "2020-06-26T06:02:31.957Z"
    }
   },
   "source": [
    "The above lines of code were used to reassign a win/loss column into a binary data set of 1 and 0. "
   ]
  },
  {
   "cell_type": "code",
   "execution_count": 16,
   "metadata": {
    "ExecuteTime": {
     "end_time": "2020-06-29T12:22:55.598322Z",
     "start_time": "2020-06-29T12:22:55.572291Z"
    }
   },
   "outputs": [],
   "source": [
    "data_df = season_df.drop(['Rk', 'CS', 'HBP', 'Gtm', 'OBP', 'SF', 'SH', '#', 'Unnamed: 3', 'GDP', 'LOB', 'Thr'], axis=1)"
   ]
  },
  {
   "cell_type": "code",
   "execution_count": 17,
   "metadata": {
    "ExecuteTime": {
     "end_time": "2020-06-29T12:22:55.730747Z",
     "start_time": "2020-06-29T12:22:55.607126Z"
    }
   },
   "outputs": [
    {
     "data": {
      "text/html": [
       "<div>\n",
       "<style scoped>\n",
       "    .dataframe tbody tr th:only-of-type {\n",
       "        vertical-align: middle;\n",
       "    }\n",
       "\n",
       "    .dataframe tbody tr th {\n",
       "        vertical-align: top;\n",
       "    }\n",
       "\n",
       "    .dataframe thead th {\n",
       "        text-align: right;\n",
       "    }\n",
       "</style>\n",
       "<table border=\"1\" class=\"dataframe\">\n",
       "  <thead>\n",
       "    <tr style=\"text-align: right;\">\n",
       "      <th></th>\n",
       "      <th>Date</th>\n",
       "      <th>Opp</th>\n",
       "      <th>Rslt</th>\n",
       "      <th>PA</th>\n",
       "      <th>AB</th>\n",
       "      <th>R</th>\n",
       "      <th>H</th>\n",
       "      <th>2B</th>\n",
       "      <th>3B</th>\n",
       "      <th>HR</th>\n",
       "      <th>RBI</th>\n",
       "      <th>BB</th>\n",
       "      <th>IBB</th>\n",
       "      <th>SO</th>\n",
       "      <th>ROE</th>\n",
       "      <th>SB</th>\n",
       "      <th>BA</th>\n",
       "      <th>SLG</th>\n",
       "      <th>OPS</th>\n",
       "      <th>Opp. Starter (GmeSc)</th>\n",
       "    </tr>\n",
       "  </thead>\n",
       "  <tbody>\n",
       "    <tr>\n",
       "      <td>0</td>\n",
       "      <td>Mar 28</td>\n",
       "      <td>PHI</td>\n",
       "      <td>0</td>\n",
       "      <td>36</td>\n",
       "      <td>30</td>\n",
       "      <td>4</td>\n",
       "      <td>7</td>\n",
       "      <td>1</td>\n",
       "      <td>0</td>\n",
       "      <td>1</td>\n",
       "      <td>4</td>\n",
       "      <td>6</td>\n",
       "      <td>0</td>\n",
       "      <td>9</td>\n",
       "      <td>0</td>\n",
       "      <td>1</td>\n",
       "      <td>0.233</td>\n",
       "      <td>0.367</td>\n",
       "      <td>0.728</td>\n",
       "      <td>A.Nola(67)</td>\n",
       "    </tr>\n",
       "    <tr>\n",
       "      <td>1</td>\n",
       "      <td>Mar 30</td>\n",
       "      <td>PHI</td>\n",
       "      <td>0</td>\n",
       "      <td>40</td>\n",
       "      <td>36</td>\n",
       "      <td>6</td>\n",
       "      <td>10</td>\n",
       "      <td>2</td>\n",
       "      <td>1</td>\n",
       "      <td>2</td>\n",
       "      <td>6</td>\n",
       "      <td>4</td>\n",
       "      <td>0</td>\n",
       "      <td>9</td>\n",
       "      <td>0</td>\n",
       "      <td>1</td>\n",
       "      <td>0.258</td>\n",
       "      <td>0.470</td>\n",
       "      <td>0.825</td>\n",
       "      <td>N.Pivetta(35)</td>\n",
       "    </tr>\n",
       "    <tr>\n",
       "      <td>2</td>\n",
       "      <td>Mar 31</td>\n",
       "      <td>PHI</td>\n",
       "      <td>0</td>\n",
       "      <td>36</td>\n",
       "      <td>29</td>\n",
       "      <td>1</td>\n",
       "      <td>4</td>\n",
       "      <td>0</td>\n",
       "      <td>0</td>\n",
       "      <td>0</td>\n",
       "      <td>0</td>\n",
       "      <td>6</td>\n",
       "      <td>0</td>\n",
       "      <td>8</td>\n",
       "      <td>0</td>\n",
       "      <td>1</td>\n",
       "      <td>0.221</td>\n",
       "      <td>0.368</td>\n",
       "      <td>0.708</td>\n",
       "      <td>J.Arrieta(62)</td>\n",
       "    </tr>\n",
       "    <tr>\n",
       "      <td>3</td>\n",
       "      <td>Apr 1</td>\n",
       "      <td>CHC</td>\n",
       "      <td>1</td>\n",
       "      <td>43</td>\n",
       "      <td>36</td>\n",
       "      <td>8</td>\n",
       "      <td>12</td>\n",
       "      <td>3</td>\n",
       "      <td>0</td>\n",
       "      <td>2</td>\n",
       "      <td>6</td>\n",
       "      <td>7</td>\n",
       "      <td>1</td>\n",
       "      <td>9</td>\n",
       "      <td>2</td>\n",
       "      <td>0</td>\n",
       "      <td>0.252</td>\n",
       "      <td>0.427</td>\n",
       "      <td>0.795</td>\n",
       "      <td>K.Hendricks(26)</td>\n",
       "    </tr>\n",
       "    <tr>\n",
       "      <td>4</td>\n",
       "      <td>Apr 3</td>\n",
       "      <td>CHC</td>\n",
       "      <td>1</td>\n",
       "      <td>39</td>\n",
       "      <td>30</td>\n",
       "      <td>6</td>\n",
       "      <td>8</td>\n",
       "      <td>1</td>\n",
       "      <td>0</td>\n",
       "      <td>2</td>\n",
       "      <td>6</td>\n",
       "      <td>8</td>\n",
       "      <td>0</td>\n",
       "      <td>8</td>\n",
       "      <td>0</td>\n",
       "      <td>1</td>\n",
       "      <td>0.255</td>\n",
       "      <td>0.441</td>\n",
       "      <td>0.817</td>\n",
       "      <td>J.Lester(56)</td>\n",
       "    </tr>\n",
       "  </tbody>\n",
       "</table>\n",
       "</div>"
      ],
      "text/plain": [
       "     Date  Opp  Rslt  PA  AB  R   H  2B  3B  HR  RBI  BB  IBB  SO  ROE  SB  \\\n",
       "0  Mar 28  PHI     0  36  30  4   7   1   0   1    4   6    0   9    0   1   \n",
       "1  Mar 30  PHI     0  40  36  6  10   2   1   2    6   4    0   9    0   1   \n",
       "2  Mar 31  PHI     0  36  29  1   4   0   0   0    0   6    0   8    0   1   \n",
       "3   Apr 1  CHC     1  43  36  8  12   3   0   2    6   7    1   9    2   0   \n",
       "4   Apr 3  CHC     1  39  30  6   8   1   0   2    6   8    0   8    0   1   \n",
       "\n",
       "      BA    SLG    OPS Opp. Starter (GmeSc)  \n",
       "0  0.233  0.367  0.728           A.Nola(67)  \n",
       "1  0.258  0.470  0.825        N.Pivetta(35)  \n",
       "2  0.221  0.368  0.708        J.Arrieta(62)  \n",
       "3  0.252  0.427  0.795      K.Hendricks(26)  \n",
       "4  0.255  0.441  0.817         J.Lester(56)  "
      ]
     },
     "execution_count": 17,
     "metadata": {},
     "output_type": "execute_result"
    }
   ],
   "source": [
    "data_df.head()"
   ]
  },
  {
   "cell_type": "code",
   "execution_count": 18,
   "metadata": {
    "ExecuteTime": {
     "end_time": "2020-06-29T12:22:56.477378Z",
     "start_time": "2020-06-29T12:22:55.752134Z"
    }
   },
   "outputs": [
    {
     "data": {
      "image/png": "[encoded data removed]",
      "text/plain": [
       "<Figure size 432x288 with 1 Axes>"
      ]
     },
     "metadata": {
      "needs_background": "light"
     },
     "output_type": "display_data"
    },
    {
     "name": "stdout",
     "output_type": "stream",
     "text": [
      "Mean Runs/Game: 5.277777777777778\n"
     ]
    }
   ],
   "source": [
    "plt.hist(data_df['R'])\n",
    "plt.xlabel('Runs')\n",
    "plt.title('Distribution of Runs')\n",
    "plt.show()\n",
    "print('Mean Runs/Game:', data_df['R'].mean())"
   ]
  },
  {
   "cell_type": "markdown",
   "metadata": {},
   "source": [
    "In baseball runs are the critical component needed to win the game, thus the more runs scored the better your chance of winning. So here we are looking at the distribution of runs over the course of a 162 game season for the 2019 Atlanta Braves baseball club. "
   ]
  },
  {
   "cell_type": "code",
   "execution_count": 19,
   "metadata": {
    "ExecuteTime": {
     "end_time": "2020-06-29T12:22:57.081228Z",
     "start_time": "2020-06-29T12:22:56.498252Z"
    }
   },
   "outputs": [
    {
     "data": {
      "image/png": "[encoded data removed]",
      "text/plain": [
       "<Figure size 432x288 with 1 Axes>"
      ]
     },
     "metadata": {
      "needs_background": "light"
     },
     "output_type": "display_data"
    },
    {
     "name": "stdout",
     "output_type": "stream",
     "text": [
      "Mean Hits/Game: 5.277777777777778\n"
     ]
    }
   ],
   "source": [
    "plt.hist(data_df['H'])\n",
    "plt.xlabel('Hits')\n",
    "plt.title('Distribution of Hits')\n",
    "plt.show()\n",
    "print('Mean Hits/Game:', data_df['R'].mean())"
   ]
  },
  {
   "cell_type": "markdown",
   "metadata": {},
   "source": [
    "Other than a few outside cases, Hits are the primary way runs are scored so in addition to examining runs here are the distribution of hits for the same team. "
   ]
  },
  {
   "cell_type": "code",
   "execution_count": 20,
   "metadata": {
    "ExecuteTime": {
     "end_time": "2020-06-29T12:22:57.229986Z",
     "start_time": "2020-06-29T12:22:57.162127Z"
    }
   },
   "outputs": [
    {
     "data": {
      "text/html": [
       "<div>\n",
       "<style scoped>\n",
       "    .dataframe tbody tr th:only-of-type {\n",
       "        vertical-align: middle;\n",
       "    }\n",
       "\n",
       "    .dataframe tbody tr th {\n",
       "        vertical-align: top;\n",
       "    }\n",
       "\n",
       "    .dataframe thead th {\n",
       "        text-align: right;\n",
       "    }\n",
       "</style>\n",
       "<table border=\"1\" class=\"dataframe\">\n",
       "  <thead>\n",
       "    <tr style=\"text-align: right;\">\n",
       "      <th></th>\n",
       "      <th>Rslt</th>\n",
       "      <th>PA</th>\n",
       "      <th>AB</th>\n",
       "      <th>R</th>\n",
       "      <th>H</th>\n",
       "      <th>2B</th>\n",
       "      <th>3B</th>\n",
       "      <th>HR</th>\n",
       "      <th>RBI</th>\n",
       "      <th>BB</th>\n",
       "      <th>IBB</th>\n",
       "      <th>SO</th>\n",
       "      <th>ROE</th>\n",
       "      <th>SB</th>\n",
       "      <th>BA</th>\n",
       "      <th>SLG</th>\n",
       "      <th>OPS</th>\n",
       "    </tr>\n",
       "  </thead>\n",
       "  <tbody>\n",
       "    <tr>\n",
       "      <td>Rslt</td>\n",
       "      <td>1.000000</td>\n",
       "      <td>0.269803</td>\n",
       "      <td>0.129982</td>\n",
       "      <td>0.548318</td>\n",
       "      <td>0.355936</td>\n",
       "      <td>0.205820</td>\n",
       "      <td>0.083166</td>\n",
       "      <td>0.289796</td>\n",
       "      <td>0.535478</td>\n",
       "      <td>0.308701</td>\n",
       "      <td>0.140351</td>\n",
       "      <td>-0.162777</td>\n",
       "      <td>0.173768</td>\n",
       "      <td>-0.116501</td>\n",
       "      <td>0.127391</td>\n",
       "      <td>0.121474</td>\n",
       "      <td>0.094293</td>\n",
       "    </tr>\n",
       "    <tr>\n",
       "      <td>PA</td>\n",
       "      <td>0.269803</td>\n",
       "      <td>1.000000</td>\n",
       "      <td>0.877000</td>\n",
       "      <td>0.599209</td>\n",
       "      <td>0.709785</td>\n",
       "      <td>0.383936</td>\n",
       "      <td>0.100949</td>\n",
       "      <td>0.169528</td>\n",
       "      <td>0.589614</td>\n",
       "      <td>0.514122</td>\n",
       "      <td>0.291550</td>\n",
       "      <td>0.233981</td>\n",
       "      <td>0.173255</td>\n",
       "      <td>0.129518</td>\n",
       "      <td>0.100660</td>\n",
       "      <td>0.043841</td>\n",
       "      <td>0.070843</td>\n",
       "    </tr>\n",
       "    <tr>\n",
       "      <td>AB</td>\n",
       "      <td>0.129982</td>\n",
       "      <td>0.877000</td>\n",
       "      <td>1.000000</td>\n",
       "      <td>0.484857</td>\n",
       "      <td>0.733373</td>\n",
       "      <td>0.329213</td>\n",
       "      <td>0.078892</td>\n",
       "      <td>0.199611</td>\n",
       "      <td>0.484252</td>\n",
       "      <td>0.078508</td>\n",
       "      <td>0.136570</td>\n",
       "      <td>0.258234</td>\n",
       "      <td>0.130584</td>\n",
       "      <td>0.114511</td>\n",
       "      <td>0.170863</td>\n",
       "      <td>0.090321</td>\n",
       "      <td>0.052761</td>\n",
       "    </tr>\n",
       "    <tr>\n",
       "      <td>R</td>\n",
       "      <td>0.548318</td>\n",
       "      <td>0.599209</td>\n",
       "      <td>0.484857</td>\n",
       "      <td>1.000000</td>\n",
       "      <td>0.774343</td>\n",
       "      <td>0.455147</td>\n",
       "      <td>0.072365</td>\n",
       "      <td>0.544756</td>\n",
       "      <td>0.991613</td>\n",
       "      <td>0.372915</td>\n",
       "      <td>0.092160</td>\n",
       "      <td>-0.103059</td>\n",
       "      <td>0.207447</td>\n",
       "      <td>-0.081354</td>\n",
       "      <td>0.182873</td>\n",
       "      <td>0.131024</td>\n",
       "      <td>0.142919</td>\n",
       "    </tr>\n",
       "    <tr>\n",
       "      <td>H</td>\n",
       "      <td>0.355936</td>\n",
       "      <td>0.709785</td>\n",
       "      <td>0.733373</td>\n",
       "      <td>0.774343</td>\n",
       "      <td>1.000000</td>\n",
       "      <td>0.495860</td>\n",
       "      <td>0.083361</td>\n",
       "      <td>0.335609</td>\n",
       "      <td>0.775630</td>\n",
       "      <td>0.148335</td>\n",
       "      <td>0.149712</td>\n",
       "      <td>-0.106716</td>\n",
       "      <td>0.089679</td>\n",
       "      <td>-0.051979</td>\n",
       "      <td>0.244993</td>\n",
       "      <td>0.125503</td>\n",
       "      <td>0.165119</td>\n",
       "    </tr>\n",
       "    <tr>\n",
       "      <td>2B</td>\n",
       "      <td>0.205820</td>\n",
       "      <td>0.383936</td>\n",
       "      <td>0.329213</td>\n",
       "      <td>0.455147</td>\n",
       "      <td>0.495860</td>\n",
       "      <td>1.000000</td>\n",
       "      <td>0.061796</td>\n",
       "      <td>0.061013</td>\n",
       "      <td>0.455415</td>\n",
       "      <td>0.166559</td>\n",
       "      <td>0.209596</td>\n",
       "      <td>-0.138127</td>\n",
       "      <td>0.020772</td>\n",
       "      <td>-0.072087</td>\n",
       "      <td>0.180913</td>\n",
       "      <td>0.157425</td>\n",
       "      <td>0.170603</td>\n",
       "    </tr>\n",
       "    <tr>\n",
       "      <td>3B</td>\n",
       "      <td>0.083166</td>\n",
       "      <td>0.100949</td>\n",
       "      <td>0.078892</td>\n",
       "      <td>0.072365</td>\n",
       "      <td>0.083361</td>\n",
       "      <td>0.061796</td>\n",
       "      <td>1.000000</td>\n",
       "      <td>-0.096584</td>\n",
       "      <td>0.072967</td>\n",
       "      <td>0.058190</td>\n",
       "      <td>-0.060465</td>\n",
       "      <td>0.138994</td>\n",
       "      <td>-0.003269</td>\n",
       "      <td>0.052943</td>\n",
       "      <td>-0.022348</td>\n",
       "      <td>-0.027855</td>\n",
       "      <td>-0.011065</td>\n",
       "    </tr>\n",
       "    <tr>\n",
       "      <td>HR</td>\n",
       "      <td>0.289796</td>\n",
       "      <td>0.169528</td>\n",
       "      <td>0.199611</td>\n",
       "      <td>0.544756</td>\n",
       "      <td>0.335609</td>\n",
       "      <td>0.061013</td>\n",
       "      <td>-0.096584</td>\n",
       "      <td>1.000000</td>\n",
       "      <td>0.550873</td>\n",
       "      <td>0.055115</td>\n",
       "      <td>-0.150084</td>\n",
       "      <td>0.011970</td>\n",
       "      <td>0.146143</td>\n",
       "      <td>-0.078356</td>\n",
       "      <td>0.141024</td>\n",
       "      <td>0.183808</td>\n",
       "      <td>0.128324</td>\n",
       "    </tr>\n",
       "    <tr>\n",
       "      <td>RBI</td>\n",
       "      <td>0.535478</td>\n",
       "      <td>0.589614</td>\n",
       "      <td>0.484252</td>\n",
       "      <td>0.991613</td>\n",
       "      <td>0.775630</td>\n",
       "      <td>0.455415</td>\n",
       "      <td>0.072967</td>\n",
       "      <td>0.550873</td>\n",
       "      <td>1.000000</td>\n",
       "      <td>0.352128</td>\n",
       "      <td>0.077828</td>\n",
       "      <td>-0.101397</td>\n",
       "      <td>0.178852</td>\n",
       "      <td>-0.084513</td>\n",
       "      <td>0.208056</td>\n",
       "      <td>0.150449</td>\n",
       "      <td>0.157150</td>\n",
       "    </tr>\n",
       "    <tr>\n",
       "      <td>BB</td>\n",
       "      <td>0.308701</td>\n",
       "      <td>0.514122</td>\n",
       "      <td>0.078508</td>\n",
       "      <td>0.372915</td>\n",
       "      <td>0.148335</td>\n",
       "      <td>0.166559</td>\n",
       "      <td>0.058190</td>\n",
       "      <td>0.055115</td>\n",
       "      <td>0.352128</td>\n",
       "      <td>1.000000</td>\n",
       "      <td>0.341167</td>\n",
       "      <td>0.038716</td>\n",
       "      <td>0.120792</td>\n",
       "      <td>0.078883</td>\n",
       "      <td>-0.107064</td>\n",
       "      <td>-0.040248</td>\n",
       "      <td>0.065922</td>\n",
       "    </tr>\n",
       "    <tr>\n",
       "      <td>IBB</td>\n",
       "      <td>0.140351</td>\n",
       "      <td>0.291550</td>\n",
       "      <td>0.136570</td>\n",
       "      <td>0.092160</td>\n",
       "      <td>0.149712</td>\n",
       "      <td>0.209596</td>\n",
       "      <td>-0.060465</td>\n",
       "      <td>-0.150084</td>\n",
       "      <td>0.077828</td>\n",
       "      <td>0.341167</td>\n",
       "      <td>1.000000</td>\n",
       "      <td>0.043297</td>\n",
       "      <td>0.014342</td>\n",
       "      <td>-0.046561</td>\n",
       "      <td>0.041322</td>\n",
       "      <td>-0.006904</td>\n",
       "      <td>0.057299</td>\n",
       "    </tr>\n",
       "    <tr>\n",
       "      <td>SO</td>\n",
       "      <td>-0.162777</td>\n",
       "      <td>0.233981</td>\n",
       "      <td>0.258234</td>\n",
       "      <td>-0.103059</td>\n",
       "      <td>-0.106716</td>\n",
       "      <td>-0.138127</td>\n",
       "      <td>0.138994</td>\n",
       "      <td>0.011970</td>\n",
       "      <td>-0.101397</td>\n",
       "      <td>0.038716</td>\n",
       "      <td>0.043297</td>\n",
       "      <td>1.000000</td>\n",
       "      <td>-0.118338</td>\n",
       "      <td>0.302999</td>\n",
       "      <td>-0.097356</td>\n",
       "      <td>0.047464</td>\n",
       "      <td>-0.043074</td>\n",
       "    </tr>\n",
       "    <tr>\n",
       "      <td>ROE</td>\n",
       "      <td>0.173768</td>\n",
       "      <td>0.173255</td>\n",
       "      <td>0.130584</td>\n",
       "      <td>0.207447</td>\n",
       "      <td>0.089679</td>\n",
       "      <td>0.020772</td>\n",
       "      <td>-0.003269</td>\n",
       "      <td>0.146143</td>\n",
       "      <td>0.178852</td>\n",
       "      <td>0.120792</td>\n",
       "      <td>0.014342</td>\n",
       "      <td>-0.118338</td>\n",
       "      <td>1.000000</td>\n",
       "      <td>0.055943</td>\n",
       "      <td>0.005691</td>\n",
       "      <td>0.010664</td>\n",
       "      <td>0.001070</td>\n",
       "    </tr>\n",
       "    <tr>\n",
       "      <td>SB</td>\n",
       "      <td>-0.116501</td>\n",
       "      <td>0.129518</td>\n",
       "      <td>0.114511</td>\n",
       "      <td>-0.081354</td>\n",
       "      <td>-0.051979</td>\n",
       "      <td>-0.072087</td>\n",
       "      <td>0.052943</td>\n",
       "      <td>-0.078356</td>\n",
       "      <td>-0.084513</td>\n",
       "      <td>0.078883</td>\n",
       "      <td>-0.046561</td>\n",
       "      <td>0.302999</td>\n",
       "      <td>0.055943</td>\n",
       "      <td>1.000000</td>\n",
       "      <td>-0.067078</td>\n",
       "      <td>0.058636</td>\n",
       "      <td>-0.029528</td>\n",
       "    </tr>\n",
       "    <tr>\n",
       "      <td>BA</td>\n",
       "      <td>0.127391</td>\n",
       "      <td>0.100660</td>\n",
       "      <td>0.170863</td>\n",
       "      <td>0.182873</td>\n",
       "      <td>0.244993</td>\n",
       "      <td>0.180913</td>\n",
       "      <td>-0.022348</td>\n",
       "      <td>0.141024</td>\n",
       "      <td>0.208056</td>\n",
       "      <td>-0.107064</td>\n",
       "      <td>0.041322</td>\n",
       "      <td>-0.097356</td>\n",
       "      <td>0.005691</td>\n",
       "      <td>-0.067078</td>\n",
       "      <td>1.000000</td>\n",
       "      <td>0.746775</td>\n",
       "      <td>0.801650</td>\n",
       "    </tr>\n",
       "    <tr>\n",
       "      <td>SLG</td>\n",
       "      <td>0.121474</td>\n",
       "      <td>0.043841</td>\n",
       "      <td>0.090321</td>\n",
       "      <td>0.131024</td>\n",
       "      <td>0.125503</td>\n",
       "      <td>0.157425</td>\n",
       "      <td>-0.027855</td>\n",
       "      <td>0.183808</td>\n",
       "      <td>0.150449</td>\n",
       "      <td>-0.040248</td>\n",
       "      <td>-0.006904</td>\n",
       "      <td>0.047464</td>\n",
       "      <td>0.010664</td>\n",
       "      <td>0.058636</td>\n",
       "      <td>0.746775</td>\n",
       "      <td>1.000000</td>\n",
       "      <td>0.739716</td>\n",
       "    </tr>\n",
       "    <tr>\n",
       "      <td>OPS</td>\n",
       "      <td>0.094293</td>\n",
       "      <td>0.070843</td>\n",
       "      <td>0.052761</td>\n",
       "      <td>0.142919</td>\n",
       "      <td>0.165119</td>\n",
       "      <td>0.170603</td>\n",
       "      <td>-0.011065</td>\n",
       "      <td>0.128324</td>\n",
       "      <td>0.157150</td>\n",
       "      <td>0.065922</td>\n",
       "      <td>0.057299</td>\n",
       "      <td>-0.043074</td>\n",
       "      <td>0.001070</td>\n",
       "      <td>-0.029528</td>\n",
       "      <td>0.801650</td>\n",
       "      <td>0.739716</td>\n",
       "      <td>1.000000</td>\n",
       "    </tr>\n",
       "  </tbody>\n",
       "</table>\n",
       "</div>"
      ],
      "text/plain": [
       "          Rslt        PA        AB         R         H        2B        3B  \\\n",
       "Rslt  1.000000  0.269803  0.129982  0.548318  0.355936  0.205820  0.083166   \n",
       "PA    0.269803  1.000000  0.877000  0.599209  0.709785  0.383936  0.100949   \n",
       "AB    0.129982  0.877000  1.000000  0.484857  0.733373  0.329213  0.078892   \n",
       "R     0.548318  0.599209  0.484857  1.000000  0.774343  0.455147  0.072365   \n",
       "H     0.355936  0.709785  0.733373  0.774343  1.000000  0.495860  0.083361   \n",
       "2B    0.205820  0.383936  0.329213  0.455147  0.495860  1.000000  0.061796   \n",
       "3B    0.083166  0.100949  0.078892  0.072365  0.083361  0.061796  1.000000   \n",
       "HR    0.289796  0.169528  0.199611  0.544756  0.335609  0.061013 -0.096584   \n",
       "RBI   0.535478  0.589614  0.484252  0.991613  0.775630  0.455415  0.072967   \n",
       "BB    0.308701  0.514122  0.078508  0.372915  0.148335  0.166559  0.058190   \n",
       "IBB   0.140351  0.291550  0.136570  0.092160  0.149712  0.209596 -0.060465   \n",
       "SO   -0.162777  0.233981  0.258234 -0.103059 -0.106716 -0.138127  0.138994   \n",
       "ROE   0.173768  0.173255  0.130584  0.207447  0.089679  0.020772 -0.003269   \n",
       "SB   -0.116501  0.129518  0.114511 -0.081354 -0.051979 -0.072087  0.052943   \n",
       "BA    0.127391  0.100660  0.170863  0.182873  0.244993  0.180913 -0.022348   \n",
       "SLG   0.121474  0.043841  0.090321  0.131024  0.125503  0.157425 -0.027855   \n",
       "OPS   0.094293  0.070843  0.052761  0.142919  0.165119  0.170603 -0.011065   \n",
       "\n",
       "            HR       RBI        BB       IBB        SO       ROE        SB  \\\n",
       "Rslt  0.289796  0.535478  0.308701  0.140351 -0.162777  0.173768 -0.116501   \n",
       "PA    0.169528  0.589614  0.514122  0.291550  0.233981  0.173255  0.129518   \n",
       "AB    0.199611  0.484252  0.078508  0.136570  0.258234  0.130584  0.114511   \n",
       "R     0.544756  0.991613  0.372915  0.092160 -0.103059  0.207447 -0.081354   \n",
       "H     0.335609  0.775630  0.148335  0.149712 -0.106716  0.089679 -0.051979   \n",
       "2B    0.061013  0.455415  0.166559  0.209596 -0.138127  0.020772 -0.072087   \n",
       "3B   -0.096584  0.072967  0.058190 -0.060465  0.138994 -0.003269  0.052943   \n",
       "HR    1.000000  0.550873  0.055115 -0.150084  0.011970  0.146143 -0.078356   \n",
       "RBI   0.550873  1.000000  0.352128  0.077828 -0.101397  0.178852 -0.084513   \n",
       "BB    0.055115  0.352128  1.000000  0.341167  0.038716  0.120792  0.078883   \n",
       "IBB  -0.150084  0.077828  0.341167  1.000000  0.043297  0.014342 -0.046561   \n",
       "SO    0.011970 -0.101397  0.038716  0.043297  1.000000 -0.118338  0.302999   \n",
       "ROE   0.146143  0.178852  0.120792  0.014342 -0.118338  1.000000  0.055943   \n",
       "SB   -0.078356 -0.084513  0.078883 -0.046561  0.302999  0.055943  1.000000   \n",
       "BA    0.141024  0.208056 -0.107064  0.041322 -0.097356  0.005691 -0.067078   \n",
       "SLG   0.183808  0.150449 -0.040248 -0.006904  0.047464  0.010664  0.058636   \n",
       "OPS   0.128324  0.157150  0.065922  0.057299 -0.043074  0.001070 -0.029528   \n",
       "\n",
       "            BA       SLG       OPS  \n",
       "Rslt  0.127391  0.121474  0.094293  \n",
       "PA    0.100660  0.043841  0.070843  \n",
       "AB    0.170863  0.090321  0.052761  \n",
       "R     0.182873  0.131024  0.142919  \n",
       "H     0.244993  0.125503  0.165119  \n",
       "2B    0.180913  0.157425  0.170603  \n",
       "3B   -0.022348 -0.027855 -0.011065  \n",
       "HR    0.141024  0.183808  0.128324  \n",
       "RBI   0.208056  0.150449  0.157150  \n",
       "BB   -0.107064 -0.040248  0.065922  \n",
       "IBB   0.041322 -0.006904  0.057299  \n",
       "SO   -0.097356  0.047464 -0.043074  \n",
       "ROE   0.005691  0.010664  0.001070  \n",
       "SB   -0.067078  0.058636 -0.029528  \n",
       "BA    1.000000  0.746775  0.801650  \n",
       "SLG   0.746775  1.000000  0.739716  \n",
       "OPS   0.801650  0.739716  1.000000  "
      ]
     },
     "execution_count": 20,
     "metadata": {},
     "output_type": "execute_result"
    }
   ],
   "source": [
    "data_df.corr()"
   ]
  },
  {
   "cell_type": "markdown",
   "metadata": {},
   "source": [
    "Examining the correlation table, we want to look at what factors lead to a positive trend within the Results column, Runs, RBI, Hits are all the largest trending columns so below we created a bin system for identifying games with lots of hits which presumably would lead to lots of runs. "
   ]
  },
  {
   "cell_type": "code",
   "execution_count": 21,
   "metadata": {
    "ExecuteTime": {
     "end_time": "2020-06-29T12:22:57.262792Z",
     "start_time": "2020-06-29T12:22:57.244238Z"
    }
   },
   "outputs": [],
   "source": [
    "def assign_bins_Hits(H): \n",
    "    if H <4 :\n",
    "        return 1\n",
    "    if H >= 4: \n",
    "        return 2\n",
    "    if H >= 6:\n",
    "        return 3\n",
    "    if H >= 8:\n",
    "        return 4\n",
    "    if H >= 10: \n",
    "        return 5\n",
    "    if H >= 12: \n",
    "        return 6\n",
    "    if H >= 14: \n",
    "        return 7\n",
    "    \n",
    "data_df['hit_bins'] = data_df['H'].apply(assign_bins_Hits)"
   ]
  },
  {
   "cell_type": "code",
   "execution_count": 22,
   "metadata": {
    "ExecuteTime": {
     "end_time": "2020-06-29T12:22:58.267576Z",
     "start_time": "2020-06-29T12:22:57.266516Z"
    }
   },
   "outputs": [
    {
     "data": {
      "image/png": "[encoded data removed]",
      "text/plain": [
       "<Figure size 1440x720 with 1 Axes>"
      ]
     },
     "metadata": {
      "needs_background": "light"
     },
     "output_type": "display_data"
    }
   ],
   "source": [
    "plt.rcParams[\"figure.figsize\"]=20,10\n",
    "x_ticks = np.arange(0, 250, 5)\n",
    "plt.xticks(x_ticks)\n",
    "plt.xticks(rotation=90)\n",
    "plt.scatter(data_df['Date'], data_df['H'], c=data_df['hit_bins'])\n",
    "plt.title('Hits Scatter Plot')\n",
    "plt.xlabel('Date')\n",
    "plt.ylabel('Hits')\n",
    "plt.show()"
   ]
  },
  {
   "cell_type": "markdown",
   "metadata": {},
   "source": [
    "Based on the plot above one can presume that the games with the fewest hits were losses while the ones with lots of hits are usually wins. Certain 'hot streak' trends can also be observed where everyone on the team was hitting well thus proving lots of offensive output. Just to examine potential streaks further we split the date column down to months, to see if there were any turning points in 2019 where the team had lots of success and vice-versa where the team was cold and unproductive "
   ]
  },
  {
   "cell_type": "code",
   "execution_count": 23,
   "metadata": {
    "ExecuteTime": {
     "end_time": "2020-06-29T12:22:58.475835Z",
     "start_time": "2020-06-29T12:22:58.404657Z"
    }
   },
   "outputs": [],
   "source": [
    "data_df[['Date']] = data_df['Date'].str.slice(stop=3)"
   ]
  },
  {
   "cell_type": "code",
   "execution_count": 24,
   "metadata": {
    "ExecuteTime": {
     "end_time": "2020-06-29T12:22:58.726451Z",
     "start_time": "2020-06-29T12:22:58.525009Z"
    }
   },
   "outputs": [
    {
     "data": {
      "text/html": [
       "<div>\n",
       "<style scoped>\n",
       "    .dataframe tbody tr th:only-of-type {\n",
       "        vertical-align: middle;\n",
       "    }\n",
       "\n",
       "    .dataframe tbody tr th {\n",
       "        vertical-align: top;\n",
       "    }\n",
       "\n",
       "    .dataframe thead th {\n",
       "        text-align: right;\n",
       "    }\n",
       "</style>\n",
       "<table border=\"1\" class=\"dataframe\">\n",
       "  <thead>\n",
       "    <tr style=\"text-align: right;\">\n",
       "      <th></th>\n",
       "      <th>Date</th>\n",
       "      <th>Opp</th>\n",
       "      <th>Rslt</th>\n",
       "      <th>PA</th>\n",
       "      <th>AB</th>\n",
       "      <th>R</th>\n",
       "      <th>H</th>\n",
       "      <th>2B</th>\n",
       "      <th>3B</th>\n",
       "      <th>HR</th>\n",
       "      <th>...</th>\n",
       "      <th>BB</th>\n",
       "      <th>IBB</th>\n",
       "      <th>SO</th>\n",
       "      <th>ROE</th>\n",
       "      <th>SB</th>\n",
       "      <th>BA</th>\n",
       "      <th>SLG</th>\n",
       "      <th>OPS</th>\n",
       "      <th>Opp. Starter (GmeSc)</th>\n",
       "      <th>hit_bins</th>\n",
       "    </tr>\n",
       "  </thead>\n",
       "  <tbody>\n",
       "    <tr>\n",
       "      <td>0</td>\n",
       "      <td>Mar</td>\n",
       "      <td>PHI</td>\n",
       "      <td>0</td>\n",
       "      <td>36</td>\n",
       "      <td>30</td>\n",
       "      <td>4</td>\n",
       "      <td>7</td>\n",
       "      <td>1</td>\n",
       "      <td>0</td>\n",
       "      <td>1</td>\n",
       "      <td>...</td>\n",
       "      <td>6</td>\n",
       "      <td>0</td>\n",
       "      <td>9</td>\n",
       "      <td>0</td>\n",
       "      <td>1</td>\n",
       "      <td>0.233</td>\n",
       "      <td>0.367</td>\n",
       "      <td>0.728</td>\n",
       "      <td>A.Nola(67)</td>\n",
       "      <td>2</td>\n",
       "    </tr>\n",
       "    <tr>\n",
       "      <td>1</td>\n",
       "      <td>Mar</td>\n",
       "      <td>PHI</td>\n",
       "      <td>0</td>\n",
       "      <td>40</td>\n",
       "      <td>36</td>\n",
       "      <td>6</td>\n",
       "      <td>10</td>\n",
       "      <td>2</td>\n",
       "      <td>1</td>\n",
       "      <td>2</td>\n",
       "      <td>...</td>\n",
       "      <td>4</td>\n",
       "      <td>0</td>\n",
       "      <td>9</td>\n",
       "      <td>0</td>\n",
       "      <td>1</td>\n",
       "      <td>0.258</td>\n",
       "      <td>0.470</td>\n",
       "      <td>0.825</td>\n",
       "      <td>N.Pivetta(35)</td>\n",
       "      <td>2</td>\n",
       "    </tr>\n",
       "    <tr>\n",
       "      <td>2</td>\n",
       "      <td>Mar</td>\n",
       "      <td>PHI</td>\n",
       "      <td>0</td>\n",
       "      <td>36</td>\n",
       "      <td>29</td>\n",
       "      <td>1</td>\n",
       "      <td>4</td>\n",
       "      <td>0</td>\n",
       "      <td>0</td>\n",
       "      <td>0</td>\n",
       "      <td>...</td>\n",
       "      <td>6</td>\n",
       "      <td>0</td>\n",
       "      <td>8</td>\n",
       "      <td>0</td>\n",
       "      <td>1</td>\n",
       "      <td>0.221</td>\n",
       "      <td>0.368</td>\n",
       "      <td>0.708</td>\n",
       "      <td>J.Arrieta(62)</td>\n",
       "      <td>2</td>\n",
       "    </tr>\n",
       "    <tr>\n",
       "      <td>3</td>\n",
       "      <td>Apr</td>\n",
       "      <td>CHC</td>\n",
       "      <td>1</td>\n",
       "      <td>43</td>\n",
       "      <td>36</td>\n",
       "      <td>8</td>\n",
       "      <td>12</td>\n",
       "      <td>3</td>\n",
       "      <td>0</td>\n",
       "      <td>2</td>\n",
       "      <td>...</td>\n",
       "      <td>7</td>\n",
       "      <td>1</td>\n",
       "      <td>9</td>\n",
       "      <td>2</td>\n",
       "      <td>0</td>\n",
       "      <td>0.252</td>\n",
       "      <td>0.427</td>\n",
       "      <td>0.795</td>\n",
       "      <td>K.Hendricks(26)</td>\n",
       "      <td>2</td>\n",
       "    </tr>\n",
       "    <tr>\n",
       "      <td>4</td>\n",
       "      <td>Apr</td>\n",
       "      <td>CHC</td>\n",
       "      <td>1</td>\n",
       "      <td>39</td>\n",
       "      <td>30</td>\n",
       "      <td>6</td>\n",
       "      <td>8</td>\n",
       "      <td>1</td>\n",
       "      <td>0</td>\n",
       "      <td>2</td>\n",
       "      <td>...</td>\n",
       "      <td>8</td>\n",
       "      <td>0</td>\n",
       "      <td>8</td>\n",
       "      <td>0</td>\n",
       "      <td>1</td>\n",
       "      <td>0.255</td>\n",
       "      <td>0.441</td>\n",
       "      <td>0.817</td>\n",
       "      <td>J.Lester(56)</td>\n",
       "      <td>2</td>\n",
       "    </tr>\n",
       "  </tbody>\n",
       "</table>\n",
       "<p>5 rows × 21 columns</p>\n",
       "</div>"
      ],
      "text/plain": [
       "  Date  Opp  Rslt  PA  AB  R   H  2B  3B  HR  ...  BB  IBB  SO  ROE  SB  \\\n",
       "0  Mar  PHI     0  36  30  4   7   1   0   1  ...   6    0   9    0   1   \n",
       "1  Mar  PHI     0  40  36  6  10   2   1   2  ...   4    0   9    0   1   \n",
       "2  Mar  PHI     0  36  29  1   4   0   0   0  ...   6    0   8    0   1   \n",
       "3  Apr  CHC     1  43  36  8  12   3   0   2  ...   7    1   9    2   0   \n",
       "4  Apr  CHC     1  39  30  6   8   1   0   2  ...   8    0   8    0   1   \n",
       "\n",
       "      BA    SLG    OPS  Opp. Starter (GmeSc) hit_bins  \n",
       "0  0.233  0.367  0.728            A.Nola(67)        2  \n",
       "1  0.258  0.470  0.825         N.Pivetta(35)        2  \n",
       "2  0.221  0.368  0.708         J.Arrieta(62)        2  \n",
       "3  0.252  0.427  0.795       K.Hendricks(26)        2  \n",
       "4  0.255  0.441  0.817          J.Lester(56)        2  \n",
       "\n",
       "[5 rows x 21 columns]"
      ]
     },
     "execution_count": 24,
     "metadata": {},
     "output_type": "execute_result"
    }
   ],
   "source": [
    "data_df.head()"
   ]
  },
  {
   "cell_type": "code",
   "execution_count": 25,
   "metadata": {
    "ExecuteTime": {
     "end_time": "2020-06-29T12:22:58.824802Z",
     "start_time": "2020-06-29T12:22:58.774570Z"
    }
   },
   "outputs": [],
   "source": [
    "winning_df = data_df[data_df.Rslt != 0]\n"
   ]
  },
  {
   "cell_type": "code",
   "execution_count": 26,
   "metadata": {
    "ExecuteTime": {
     "end_time": "2020-06-29T12:22:58.946286Z",
     "start_time": "2020-06-29T12:22:58.828712Z"
    }
   },
   "outputs": [
    {
     "data": {
      "text/html": [
       "<div>\n",
       "<style scoped>\n",
       "    .dataframe tbody tr th:only-of-type {\n",
       "        vertical-align: middle;\n",
       "    }\n",
       "\n",
       "    .dataframe tbody tr th {\n",
       "        vertical-align: top;\n",
       "    }\n",
       "\n",
       "    .dataframe thead th {\n",
       "        text-align: right;\n",
       "    }\n",
       "</style>\n",
       "<table border=\"1\" class=\"dataframe\">\n",
       "  <thead>\n",
       "    <tr style=\"text-align: right;\">\n",
       "      <th></th>\n",
       "      <th>Date</th>\n",
       "      <th>Opp</th>\n",
       "      <th>Rslt</th>\n",
       "      <th>PA</th>\n",
       "      <th>AB</th>\n",
       "      <th>R</th>\n",
       "      <th>H</th>\n",
       "      <th>2B</th>\n",
       "      <th>3B</th>\n",
       "      <th>HR</th>\n",
       "      <th>...</th>\n",
       "      <th>BB</th>\n",
       "      <th>IBB</th>\n",
       "      <th>SO</th>\n",
       "      <th>ROE</th>\n",
       "      <th>SB</th>\n",
       "      <th>BA</th>\n",
       "      <th>SLG</th>\n",
       "      <th>OPS</th>\n",
       "      <th>Opp. Starter (GmeSc)</th>\n",
       "      <th>hit_bins</th>\n",
       "    </tr>\n",
       "  </thead>\n",
       "  <tbody>\n",
       "    <tr>\n",
       "      <td>3</td>\n",
       "      <td>Apr</td>\n",
       "      <td>CHC</td>\n",
       "      <td>1</td>\n",
       "      <td>43</td>\n",
       "      <td>36</td>\n",
       "      <td>8</td>\n",
       "      <td>12</td>\n",
       "      <td>3</td>\n",
       "      <td>0</td>\n",
       "      <td>2</td>\n",
       "      <td>...</td>\n",
       "      <td>7</td>\n",
       "      <td>1</td>\n",
       "      <td>9</td>\n",
       "      <td>2</td>\n",
       "      <td>0</td>\n",
       "      <td>0.252</td>\n",
       "      <td>0.427</td>\n",
       "      <td>0.795</td>\n",
       "      <td>K.Hendricks(26)</td>\n",
       "      <td>2</td>\n",
       "    </tr>\n",
       "    <tr>\n",
       "      <td>4</td>\n",
       "      <td>Apr</td>\n",
       "      <td>CHC</td>\n",
       "      <td>1</td>\n",
       "      <td>39</td>\n",
       "      <td>30</td>\n",
       "      <td>6</td>\n",
       "      <td>8</td>\n",
       "      <td>1</td>\n",
       "      <td>0</td>\n",
       "      <td>2</td>\n",
       "      <td>...</td>\n",
       "      <td>8</td>\n",
       "      <td>0</td>\n",
       "      <td>8</td>\n",
       "      <td>0</td>\n",
       "      <td>1</td>\n",
       "      <td>0.255</td>\n",
       "      <td>0.441</td>\n",
       "      <td>0.817</td>\n",
       "      <td>J.Lester(56)</td>\n",
       "      <td>2</td>\n",
       "    </tr>\n",
       "    <tr>\n",
       "      <td>5</td>\n",
       "      <td>Apr</td>\n",
       "      <td>CHC</td>\n",
       "      <td>1</td>\n",
       "      <td>42</td>\n",
       "      <td>34</td>\n",
       "      <td>9</td>\n",
       "      <td>13</td>\n",
       "      <td>4</td>\n",
       "      <td>0</td>\n",
       "      <td>0</td>\n",
       "      <td>...</td>\n",
       "      <td>6</td>\n",
       "      <td>1</td>\n",
       "      <td>6</td>\n",
       "      <td>0</td>\n",
       "      <td>0</td>\n",
       "      <td>0.277</td>\n",
       "      <td>0.451</td>\n",
       "      <td>0.843</td>\n",
       "      <td>Y.Darvish(38)</td>\n",
       "      <td>2</td>\n",
       "    </tr>\n",
       "    <tr>\n",
       "      <td>6</td>\n",
       "      <td>Apr</td>\n",
       "      <td>MIA</td>\n",
       "      <td>1</td>\n",
       "      <td>34</td>\n",
       "      <td>31</td>\n",
       "      <td>4</td>\n",
       "      <td>7</td>\n",
       "      <td>0</td>\n",
       "      <td>0</td>\n",
       "      <td>2</td>\n",
       "      <td>...</td>\n",
       "      <td>2</td>\n",
       "      <td>0</td>\n",
       "      <td>8</td>\n",
       "      <td>0</td>\n",
       "      <td>0</td>\n",
       "      <td>0.270</td>\n",
       "      <td>0.447</td>\n",
       "      <td>0.826</td>\n",
       "      <td>P.Lopez(41)</td>\n",
       "      <td>2</td>\n",
       "    </tr>\n",
       "    <tr>\n",
       "      <td>8</td>\n",
       "      <td>Apr</td>\n",
       "      <td>MIA</td>\n",
       "      <td>1</td>\n",
       "      <td>33</td>\n",
       "      <td>29</td>\n",
       "      <td>4</td>\n",
       "      <td>7</td>\n",
       "      <td>1</td>\n",
       "      <td>0</td>\n",
       "      <td>2</td>\n",
       "      <td>...</td>\n",
       "      <td>3</td>\n",
       "      <td>0</td>\n",
       "      <td>8</td>\n",
       "      <td>0</td>\n",
       "      <td>0</td>\n",
       "      <td>0.256</td>\n",
       "      <td>0.426</td>\n",
       "      <td>0.795</td>\n",
       "      <td>C.Smith(57)</td>\n",
       "      <td>2</td>\n",
       "    </tr>\n",
       "  </tbody>\n",
       "</table>\n",
       "<p>5 rows × 21 columns</p>\n",
       "</div>"
      ],
      "text/plain": [
       "  Date  Opp  Rslt  PA  AB  R   H  2B  3B  HR  ...  BB  IBB  SO  ROE  SB  \\\n",
       "3  Apr  CHC     1  43  36  8  12   3   0   2  ...   7    1   9    2   0   \n",
       "4  Apr  CHC     1  39  30  6   8   1   0   2  ...   8    0   8    0   1   \n",
       "5  Apr  CHC     1  42  34  9  13   4   0   0  ...   6    1   6    0   0   \n",
       "6  Apr  MIA     1  34  31  4   7   0   0   2  ...   2    0   8    0   0   \n",
       "8  Apr  MIA     1  33  29  4   7   1   0   2  ...   3    0   8    0   0   \n",
       "\n",
       "      BA    SLG    OPS  Opp. Starter (GmeSc) hit_bins  \n",
       "3  0.252  0.427  0.795       K.Hendricks(26)        2  \n",
       "4  0.255  0.441  0.817          J.Lester(56)        2  \n",
       "5  0.277  0.451  0.843         Y.Darvish(38)        2  \n",
       "6  0.270  0.447  0.826           P.Lopez(41)        2  \n",
       "8  0.256  0.426  0.795           C.Smith(57)        2  \n",
       "\n",
       "[5 rows x 21 columns]"
      ]
     },
     "execution_count": 26,
     "metadata": {},
     "output_type": "execute_result"
    }
   ],
   "source": [
    "winning_df.head()\n"
   ]
  },
  {
   "cell_type": "markdown",
   "metadata": {},
   "source": [
    "Since we split the date down to months, we again split the table into a table that only contained statistics about wins, this was we can create a bins table that examines team performance on a month-by-month basis. "
   ]
  },
  {
   "cell_type": "code",
   "execution_count": 27,
   "metadata": {
    "ExecuteTime": {
     "end_time": "2020-06-29T12:22:58.973129Z",
     "start_time": "2020-06-29T12:22:58.953202Z"
    }
   },
   "outputs": [
    {
     "data": {
      "text/plain": [
       "Jun    20\n",
       "Aug    19\n",
       "May    16\n",
       "Sep    14\n",
       "Jul    14\n",
       "Apr    14\n",
       "Name: Date, dtype: int64"
      ]
     },
     "execution_count": 27,
     "metadata": {},
     "output_type": "execute_result"
    }
   ],
   "source": [
    "\n",
    "winning_df['Date'].value_counts()"
   ]
  },
  {
   "cell_type": "markdown",
   "metadata": {},
   "source": [
    "From this we can see that June and August were the best months while July and April were the worst in terms of team victories. It difficult to determine the cause for this, but keeping a 25 man roster health while playing an intense sport almost every day can be a factor. "
   ]
  },
  {
   "cell_type": "code",
   "execution_count": 28,
   "metadata": {
    "ExecuteTime": {
     "end_time": "2020-06-29T12:22:59.108578Z",
     "start_time": "2020-06-29T12:22:58.986446Z"
    }
   },
   "outputs": [
    {
     "data": {
      "text/plain": [
       "Rslt         0.598765\n",
       "PA          38.901235\n",
       "AB          34.320988\n",
       "R            5.277778\n",
       "H            8.839506\n",
       "2B           1.709877\n",
       "3B           0.179012\n",
       "HR           1.537037\n",
       "RBI          5.086420\n",
       "BB           3.820988\n",
       "IBB          0.240741\n",
       "SO           9.055556\n",
       "ROE          0.314815\n",
       "SB           0.549383\n",
       "BA           0.261333\n",
       "SLG          0.451302\n",
       "OPS          0.793025\n",
       "hit_bins     1.969136\n",
       "dtype: float64"
      ]
     },
     "execution_count": 28,
     "metadata": {},
     "output_type": "execute_result"
    }
   ],
   "source": [
    "data_df.mean()"
   ]
  },
  {
   "cell_type": "code",
   "execution_count": 29,
   "metadata": {
    "ExecuteTime": {
     "end_time": "2020-06-29T12:22:59.164042Z",
     "start_time": "2020-06-29T12:22:59.115667Z"
    }
   },
   "outputs": [],
   "source": [
    "june_df= data_df[data_df.Date == 'Jun']\n"
   ]
  },
  {
   "cell_type": "code",
   "execution_count": 30,
   "metadata": {
    "ExecuteTime": {
     "end_time": "2020-06-29T12:22:59.261703Z",
     "start_time": "2020-06-29T12:22:59.220758Z"
    },
    "scrolled": true
   },
   "outputs": [
    {
     "data": {
      "text/plain": [
       "Rslt         0.714286\n",
       "PA          40.285714\n",
       "AB          35.750000\n",
       "R            6.678571\n",
       "H            9.892857\n",
       "2B           2.285714\n",
       "3B           0.214286\n",
       "HR           2.000000\n",
       "RBI          6.464286\n",
       "BB           3.571429\n",
       "IBB          0.178571\n",
       "SO           8.928571\n",
       "ROE          0.321429\n",
       "SB           0.500000\n",
       "BA           0.261750\n",
       "SLG          0.451750\n",
       "OPS          0.787786\n",
       "hit_bins     1.928571\n",
       "dtype: float64"
      ]
     },
     "execution_count": 30,
     "metadata": {},
     "output_type": "execute_result"
    }
   ],
   "source": [
    "june_df.mean()"
   ]
  },
  {
   "cell_type": "markdown",
   "metadata": {},
   "source": [
    "To better dig into this we look at the mean values of the best month, June, versus the entire season, in this you can see that during the month of June players averages more at-bats, AB, and more RBIs so basically the entire team was performing roughly 78% better at driving in runs. "
   ]
  },
  {
   "cell_type": "code",
   "execution_count": 31,
   "metadata": {
    "ExecuteTime": {
     "end_time": "2020-06-29T12:22:59.311933Z",
     "start_time": "2020-06-29T12:22:59.266250Z"
    }
   },
   "outputs": [
    {
     "data": {
      "text/plain": [
       "Index(['Date', 'Opp', 'Rslt', 'PA', 'AB', 'R', 'H', '2B', '3B', 'HR', 'RBI',\n",
       "       'BB', 'IBB', 'SO', 'ROE', 'SB', 'BA', 'SLG', 'OPS',\n",
       "       'Opp. Starter (GmeSc)', 'hit_bins'],\n",
       "      dtype='object')"
      ]
     },
     "execution_count": 31,
     "metadata": {},
     "output_type": "execute_result"
    }
   ],
   "source": [
    "data_df.columns"
   ]
  },
  {
   "cell_type": "code",
   "execution_count": 32,
   "metadata": {
    "ExecuteTime": {
     "end_time": "2020-06-29T12:22:59.409467Z",
     "start_time": "2020-06-29T12:22:59.359708Z"
    }
   },
   "outputs": [],
   "source": [
    "\n",
    "data_df[['Opp. Starter (GmeSc)']] = data_df['Opp. Starter (GmeSc)'].str.slice(stop=-4)"
   ]
  },
  {
   "cell_type": "code",
   "execution_count": 33,
   "metadata": {
    "ExecuteTime": {
     "end_time": "2020-06-29T12:23:01.319294Z",
     "start_time": "2020-06-29T12:22:59.430689Z"
    }
   },
   "outputs": [
    {
     "data": {
      "image/png": "[encoded data removed]",
      "text/plain": [
       "<Figure size 432x2016 with 1 Axes>"
      ]
     },
     "metadata": {
      "needs_background": "light"
     },
     "output_type": "display_data"
    }
   ],
   "source": [
    "plt.rcParams[\"figure.figsize\"]=6,28\n",
    "plt.xticks(rotation=0)\n",
    "plt.figsize=(30,6)\n",
    "x_ticks = np.arange(0, 10, 1)\n",
    "plt.xticks(x_ticks)\n",
    "y_ticks = np.arange(0, 162, 1)\n",
    "plt.yticks(y_ticks)\n",
    "plt.scatter(data_df['Rslt'], data_df['Opp. Starter (GmeSc)'])\n",
    "plt.title('wins vs sp')\n",
    "plt.xlabel('Wins')\n",
    "plt.ylabel('SP')\n",
    "plt.show()"
   ]
  },
  {
   "cell_type": "code",
   "execution_count": 34,
   "metadata": {
    "ExecuteTime": {
     "end_time": "2020-06-29T12:23:01.339808Z",
     "start_time": "2020-06-29T12:23:01.322031Z"
    }
   },
   "outputs": [],
   "source": [
    "repeat_sp = data_df['Opp. Starter (GmeSc)'].value_counts()"
   ]
  },
  {
   "cell_type": "code",
   "execution_count": 35,
   "metadata": {
    "ExecuteTime": {
     "end_time": "2020-06-29T12:23:01.401348Z",
     "start_time": "2020-06-29T12:23:01.349377Z"
    }
   },
   "outputs": [
    {
     "data": {
      "text/html": [
       "<div>\n",
       "<style scoped>\n",
       "    .dataframe tbody tr th:only-of-type {\n",
       "        vertical-align: middle;\n",
       "    }\n",
       "\n",
       "    .dataframe tbody tr th {\n",
       "        vertical-align: top;\n",
       "    }\n",
       "\n",
       "    .dataframe thead th {\n",
       "        text-align: right;\n",
       "    }\n",
       "</style>\n",
       "<table border=\"1\" class=\"dataframe\">\n",
       "  <thead>\n",
       "    <tr style=\"text-align: right;\">\n",
       "      <th></th>\n",
       "      <th>Opp. Starter (GmeSc)</th>\n",
       "    </tr>\n",
       "  </thead>\n",
       "  <tbody>\n",
       "    <tr>\n",
       "      <td>S.Matz</td>\n",
       "      <td>6</td>\n",
       "    </tr>\n",
       "    <tr>\n",
       "      <td>A.Nola</td>\n",
       "      <td>6</td>\n",
       "    </tr>\n",
       "    <tr>\n",
       "      <td>A.Sanchez</td>\n",
       "      <td>5</td>\n",
       "    </tr>\n",
       "    <tr>\n",
       "      <td>C.Smith</td>\n",
       "      <td>4</td>\n",
       "    </tr>\n",
       "    <tr>\n",
       "      <td>S.Strasburg</td>\n",
       "      <td>4</td>\n",
       "    </tr>\n",
       "    <tr>\n",
       "      <td>...</td>\n",
       "      <td>...</td>\n",
       "    </tr>\n",
       "    <tr>\n",
       "      <td>J.Chacin</td>\n",
       "      <td>1</td>\n",
       "    </tr>\n",
       "    <tr>\n",
       "      <td>M.Keller</td>\n",
       "      <td>1</td>\n",
       "    </tr>\n",
       "    <tr>\n",
       "      <td>M.Wacha</td>\n",
       "      <td>1</td>\n",
       "    </tr>\n",
       "    <tr>\n",
       "      <td>M.Strahm</td>\n",
       "      <td>1</td>\n",
       "    </tr>\n",
       "    <tr>\n",
       "      <td>D.Lamet</td>\n",
       "      <td>1</td>\n",
       "    </tr>\n",
       "  </tbody>\n",
       "</table>\n",
       "<p>97 rows × 1 columns</p>\n",
       "</div>"
      ],
      "text/plain": [
       "             Opp. Starter (GmeSc)\n",
       "S.Matz                          6\n",
       "A.Nola                          6\n",
       "A.Sanchez                       5\n",
       "C.Smith                         4\n",
       "S.Strasburg                     4\n",
       "...                           ...\n",
       "J.Chacin                        1\n",
       "M.Keller                        1\n",
       "M.Wacha                         1\n",
       "M.Strahm                        1\n",
       "D.Lamet                         1\n",
       "\n",
       "[97 rows x 1 columns]"
      ]
     },
     "execution_count": 35,
     "metadata": {},
     "output_type": "execute_result"
    }
   ],
   "source": [
    "repeat_sp.to_frame()\n"
   ]
  },
  {
   "cell_type": "markdown",
   "metadata": {
    "ExecuteTime": {
     "end_time": "2020-06-29T12:23:02.464545Z",
     "start_time": "2020-06-29T12:23:01.408311Z"
    }
   },
   "source": [
    "The above tables were more of a curioucity than a valid statistical argument, we wanted to examine which pitchers the braves had faced and either won or lost against them as well as the number of times the team faced those particular starting pitchers. "
   ]
  },
  {
   "cell_type": "markdown",
   "metadata": {
    "ExecuteTime": {
     "end_time": "2020-06-29T13:11:16.097370Z",
     "start_time": "2020-06-29T13:11:16.088344Z"
    }
   },
   "source": [
    "## Modeling team wins "
   ]
  },
  {
   "cell_type": "code",
   "execution_count": 37,
   "metadata": {
    "ExecuteTime": {
     "end_time": "2020-06-29T12:23:21.720863Z",
     "start_time": "2020-06-29T12:23:21.714033Z"
    }
   },
   "outputs": [],
   "source": [
    "attributes = ['PA', 'AB', 'R', 'H', '2B', '3B', 'HR', 'RBI',\n",
    "       'BB', 'IBB', 'SO', 'ROE', 'SB', 'BA', 'SLG', 'OPS',\n",
    "       ]\n",
    "data_attributes = data_df[attributes]"
   ]
  },
  {
   "cell_type": "code",
   "execution_count": 38,
   "metadata": {
    "ExecuteTime": {
     "end_time": "2020-06-29T12:23:22.490730Z",
     "start_time": "2020-06-29T12:23:22.465630Z"
    }
   },
   "outputs": [
    {
     "data": {
      "text/html": [
       "<div>\n",
       "<style scoped>\n",
       "    .dataframe tbody tr th:only-of-type {\n",
       "        vertical-align: middle;\n",
       "    }\n",
       "\n",
       "    .dataframe tbody tr th {\n",
       "        vertical-align: top;\n",
       "    }\n",
       "\n",
       "    .dataframe thead th {\n",
       "        text-align: right;\n",
       "    }\n",
       "</style>\n",
       "<table border=\"1\" class=\"dataframe\">\n",
       "  <thead>\n",
       "    <tr style=\"text-align: right;\">\n",
       "      <th></th>\n",
       "      <th>PA</th>\n",
       "      <th>AB</th>\n",
       "      <th>R</th>\n",
       "      <th>H</th>\n",
       "      <th>2B</th>\n",
       "      <th>3B</th>\n",
       "      <th>HR</th>\n",
       "      <th>RBI</th>\n",
       "      <th>BB</th>\n",
       "      <th>IBB</th>\n",
       "      <th>SO</th>\n",
       "      <th>ROE</th>\n",
       "      <th>SB</th>\n",
       "      <th>BA</th>\n",
       "      <th>SLG</th>\n",
       "      <th>OPS</th>\n",
       "    </tr>\n",
       "  </thead>\n",
       "  <tbody>\n",
       "    <tr>\n",
       "      <td>0</td>\n",
       "      <td>36</td>\n",
       "      <td>30</td>\n",
       "      <td>4</td>\n",
       "      <td>7</td>\n",
       "      <td>1</td>\n",
       "      <td>0</td>\n",
       "      <td>1</td>\n",
       "      <td>4</td>\n",
       "      <td>6</td>\n",
       "      <td>0</td>\n",
       "      <td>9</td>\n",
       "      <td>0</td>\n",
       "      <td>1</td>\n",
       "      <td>0.233</td>\n",
       "      <td>0.367</td>\n",
       "      <td>0.728</td>\n",
       "    </tr>\n",
       "    <tr>\n",
       "      <td>1</td>\n",
       "      <td>40</td>\n",
       "      <td>36</td>\n",
       "      <td>6</td>\n",
       "      <td>10</td>\n",
       "      <td>2</td>\n",
       "      <td>1</td>\n",
       "      <td>2</td>\n",
       "      <td>6</td>\n",
       "      <td>4</td>\n",
       "      <td>0</td>\n",
       "      <td>9</td>\n",
       "      <td>0</td>\n",
       "      <td>1</td>\n",
       "      <td>0.258</td>\n",
       "      <td>0.470</td>\n",
       "      <td>0.825</td>\n",
       "    </tr>\n",
       "    <tr>\n",
       "      <td>2</td>\n",
       "      <td>36</td>\n",
       "      <td>29</td>\n",
       "      <td>1</td>\n",
       "      <td>4</td>\n",
       "      <td>0</td>\n",
       "      <td>0</td>\n",
       "      <td>0</td>\n",
       "      <td>0</td>\n",
       "      <td>6</td>\n",
       "      <td>0</td>\n",
       "      <td>8</td>\n",
       "      <td>0</td>\n",
       "      <td>1</td>\n",
       "      <td>0.221</td>\n",
       "      <td>0.368</td>\n",
       "      <td>0.708</td>\n",
       "    </tr>\n",
       "    <tr>\n",
       "      <td>3</td>\n",
       "      <td>43</td>\n",
       "      <td>36</td>\n",
       "      <td>8</td>\n",
       "      <td>12</td>\n",
       "      <td>3</td>\n",
       "      <td>0</td>\n",
       "      <td>2</td>\n",
       "      <td>6</td>\n",
       "      <td>7</td>\n",
       "      <td>1</td>\n",
       "      <td>9</td>\n",
       "      <td>2</td>\n",
       "      <td>0</td>\n",
       "      <td>0.252</td>\n",
       "      <td>0.427</td>\n",
       "      <td>0.795</td>\n",
       "    </tr>\n",
       "    <tr>\n",
       "      <td>4</td>\n",
       "      <td>39</td>\n",
       "      <td>30</td>\n",
       "      <td>6</td>\n",
       "      <td>8</td>\n",
       "      <td>1</td>\n",
       "      <td>0</td>\n",
       "      <td>2</td>\n",
       "      <td>6</td>\n",
       "      <td>8</td>\n",
       "      <td>0</td>\n",
       "      <td>8</td>\n",
       "      <td>0</td>\n",
       "      <td>1</td>\n",
       "      <td>0.255</td>\n",
       "      <td>0.441</td>\n",
       "      <td>0.817</td>\n",
       "    </tr>\n",
       "  </tbody>\n",
       "</table>\n",
       "</div>"
      ],
      "text/plain": [
       "   PA  AB  R   H  2B  3B  HR  RBI  BB  IBB  SO  ROE  SB     BA    SLG    OPS\n",
       "0  36  30  4   7   1   0   1    4   6    0   9    0   1  0.233  0.367  0.728\n",
       "1  40  36  6  10   2   1   2    6   4    0   9    0   1  0.258  0.470  0.825\n",
       "2  36  29  1   4   0   0   0    0   6    0   8    0   1  0.221  0.368  0.708\n",
       "3  43  36  8  12   3   0   2    6   7    1   9    2   0  0.252  0.427  0.795\n",
       "4  39  30  6   8   1   0   2    6   8    0   8    0   1  0.255  0.441  0.817"
      ]
     },
     "execution_count": 38,
     "metadata": {},
     "output_type": "execute_result"
    }
   ],
   "source": [
    "data_attributes.head()"
   ]
  },
  {
   "cell_type": "markdown",
   "metadata": {},
   "source": [
    "Above we simplified our data to include only numberical and measurable statistics. "
   ]
  },
  {
   "cell_type": "code",
   "execution_count": 39,
   "metadata": {
    "ExecuteTime": {
     "end_time": "2020-06-29T12:23:26.288286Z",
     "start_time": "2020-06-29T12:23:23.753850Z"
    }
   },
   "outputs": [
    {
     "name": "stdout",
     "output_type": "stream",
     "text": [
      "{2: [0.37323342067247944], 3: [0.24389079126638932], 4: [0.24842518324443108], 5: [0.19799516781766885], 6: [0.1858559843634031], 7: [0.1759530192024783], 8: [0.1762241218391131], 9: [0.18000272671122614], 10: [0.17971428134643203]}\n"
     ]
    }
   ],
   "source": [
    "from sklearn.cluster import KMeans\n",
    "from sklearn import metrics\n",
    "\n",
    "# Create silhouette score dictionary\n",
    "s_score_dict = {}\n",
    "for i in range(2,11):\n",
    "    km = KMeans(n_clusters=i, random_state=1)\n",
    "    l = km.fit_predict(data_attributes)\n",
    "    s_s = metrics.silhouette_score(data_attributes, l)\n",
    "    s_score_dict[i] = [s_s]\n",
    "\n",
    "# Print out `s_score_dict`\n",
    "print(s_score_dict)"
   ]
  },
  {
   "cell_type": "markdown",
   "metadata": {},
   "source": [
    "After lots of testing and consideration of the data KMeans was chosen as a model due to its ability to evaluate continues float data and create continuous means of the data points selected. "
   ]
  },
  {
   "cell_type": "code",
   "execution_count": 40,
   "metadata": {
    "ExecuteTime": {
     "end_time": "2020-06-29T12:23:27.497680Z",
     "start_time": "2020-06-29T12:23:27.145850Z"
    }
   },
   "outputs": [
    {
     "data": {
      "text/plain": [
       "Text(0.5, 1.0, 'Kmeans Clusters')"
      ]
     },
     "execution_count": 40,
     "metadata": {},
     "output_type": "execute_result"
    },
    {
     "data": {
      "image/png": "[encoded data removed]",
      "text/plain": [
       "<Figure size 720x576 with 1 Axes>"
      ]
     },
     "metadata": {
      "needs_background": "light"
     },
     "output_type": "display_data"
    }
   ],
   "source": [
    "plt.rcParams[\"figure.figsize\"]=10,8\n",
    "kmeans_model = KMeans(n_clusters=6, random_state=1)\n",
    "distances = kmeans_model.fit_transform(data_attributes)\n",
    "labels = kmeans_model.labels_\n",
    "\n",
    "plt.scatter(distances[:,0], distances[:,1], c=labels)\n",
    "plt.title('Kmeans Clusters')"
   ]
  },
  {
   "cell_type": "code",
   "execution_count": 41,
   "metadata": {
    "ExecuteTime": {
     "end_time": "2020-06-29T12:23:28.325942Z",
     "start_time": "2020-06-29T12:23:28.285615Z"
    }
   },
   "outputs": [
    {
     "data": {
      "text/html": [
       "<div>\n",
       "<style scoped>\n",
       "    .dataframe tbody tr th:only-of-type {\n",
       "        vertical-align: middle;\n",
       "    }\n",
       "\n",
       "    .dataframe tbody tr th {\n",
       "        vertical-align: top;\n",
       "    }\n",
       "\n",
       "    .dataframe thead th {\n",
       "        text-align: right;\n",
       "    }\n",
       "</style>\n",
       "<table border=\"1\" class=\"dataframe\">\n",
       "  <thead>\n",
       "    <tr style=\"text-align: right;\">\n",
       "      <th></th>\n",
       "      <th>Date</th>\n",
       "      <th>Opp</th>\n",
       "      <th>Rslt</th>\n",
       "      <th>PA</th>\n",
       "      <th>AB</th>\n",
       "      <th>R</th>\n",
       "      <th>H</th>\n",
       "      <th>2B</th>\n",
       "      <th>3B</th>\n",
       "      <th>HR</th>\n",
       "      <th>...</th>\n",
       "      <th>IBB</th>\n",
       "      <th>SO</th>\n",
       "      <th>ROE</th>\n",
       "      <th>SB</th>\n",
       "      <th>BA</th>\n",
       "      <th>SLG</th>\n",
       "      <th>OPS</th>\n",
       "      <th>Opp. Starter (GmeSc)</th>\n",
       "      <th>hit_bins</th>\n",
       "      <th>labels</th>\n",
       "    </tr>\n",
       "  </thead>\n",
       "  <tbody>\n",
       "    <tr>\n",
       "      <td>0</td>\n",
       "      <td>Mar</td>\n",
       "      <td>PHI</td>\n",
       "      <td>0</td>\n",
       "      <td>36</td>\n",
       "      <td>30</td>\n",
       "      <td>4</td>\n",
       "      <td>7</td>\n",
       "      <td>1</td>\n",
       "      <td>0</td>\n",
       "      <td>1</td>\n",
       "      <td>...</td>\n",
       "      <td>0</td>\n",
       "      <td>9</td>\n",
       "      <td>0</td>\n",
       "      <td>1</td>\n",
       "      <td>0.233</td>\n",
       "      <td>0.367</td>\n",
       "      <td>0.728</td>\n",
       "      <td>A.Nola</td>\n",
       "      <td>2</td>\n",
       "      <td>4</td>\n",
       "    </tr>\n",
       "    <tr>\n",
       "      <td>1</td>\n",
       "      <td>Mar</td>\n",
       "      <td>PHI</td>\n",
       "      <td>0</td>\n",
       "      <td>40</td>\n",
       "      <td>36</td>\n",
       "      <td>6</td>\n",
       "      <td>10</td>\n",
       "      <td>2</td>\n",
       "      <td>1</td>\n",
       "      <td>2</td>\n",
       "      <td>...</td>\n",
       "      <td>0</td>\n",
       "      <td>9</td>\n",
       "      <td>0</td>\n",
       "      <td>1</td>\n",
       "      <td>0.258</td>\n",
       "      <td>0.470</td>\n",
       "      <td>0.825</td>\n",
       "      <td>N.Pivetta</td>\n",
       "      <td>2</td>\n",
       "      <td>5</td>\n",
       "    </tr>\n",
       "    <tr>\n",
       "      <td>2</td>\n",
       "      <td>Mar</td>\n",
       "      <td>PHI</td>\n",
       "      <td>0</td>\n",
       "      <td>36</td>\n",
       "      <td>29</td>\n",
       "      <td>1</td>\n",
       "      <td>4</td>\n",
       "      <td>0</td>\n",
       "      <td>0</td>\n",
       "      <td>0</td>\n",
       "      <td>...</td>\n",
       "      <td>0</td>\n",
       "      <td>8</td>\n",
       "      <td>0</td>\n",
       "      <td>1</td>\n",
       "      <td>0.221</td>\n",
       "      <td>0.368</td>\n",
       "      <td>0.708</td>\n",
       "      <td>J.Arrieta</td>\n",
       "      <td>2</td>\n",
       "      <td>1</td>\n",
       "    </tr>\n",
       "    <tr>\n",
       "      <td>3</td>\n",
       "      <td>Apr</td>\n",
       "      <td>CHC</td>\n",
       "      <td>1</td>\n",
       "      <td>43</td>\n",
       "      <td>36</td>\n",
       "      <td>8</td>\n",
       "      <td>12</td>\n",
       "      <td>3</td>\n",
       "      <td>0</td>\n",
       "      <td>2</td>\n",
       "      <td>...</td>\n",
       "      <td>1</td>\n",
       "      <td>9</td>\n",
       "      <td>2</td>\n",
       "      <td>0</td>\n",
       "      <td>0.252</td>\n",
       "      <td>0.427</td>\n",
       "      <td>0.795</td>\n",
       "      <td>K.Hendricks</td>\n",
       "      <td>2</td>\n",
       "      <td>0</td>\n",
       "    </tr>\n",
       "    <tr>\n",
       "      <td>4</td>\n",
       "      <td>Apr</td>\n",
       "      <td>CHC</td>\n",
       "      <td>1</td>\n",
       "      <td>39</td>\n",
       "      <td>30</td>\n",
       "      <td>6</td>\n",
       "      <td>8</td>\n",
       "      <td>1</td>\n",
       "      <td>0</td>\n",
       "      <td>2</td>\n",
       "      <td>...</td>\n",
       "      <td>0</td>\n",
       "      <td>8</td>\n",
       "      <td>0</td>\n",
       "      <td>1</td>\n",
       "      <td>0.255</td>\n",
       "      <td>0.441</td>\n",
       "      <td>0.817</td>\n",
       "      <td>J.Lester</td>\n",
       "      <td>2</td>\n",
       "      <td>4</td>\n",
       "    </tr>\n",
       "  </tbody>\n",
       "</table>\n",
       "<p>5 rows × 22 columns</p>\n",
       "</div>"
      ],
      "text/plain": [
       "  Date  Opp  Rslt  PA  AB  R   H  2B  3B  HR  ...  IBB  SO  ROE  SB     BA  \\\n",
       "0  Mar  PHI     0  36  30  4   7   1   0   1  ...    0   9    0   1  0.233   \n",
       "1  Mar  PHI     0  40  36  6  10   2   1   2  ...    0   9    0   1  0.258   \n",
       "2  Mar  PHI     0  36  29  1   4   0   0   0  ...    0   8    0   1  0.221   \n",
       "3  Apr  CHC     1  43  36  8  12   3   0   2  ...    1   9    2   0  0.252   \n",
       "4  Apr  CHC     1  39  30  6   8   1   0   2  ...    0   8    0   1  0.255   \n",
       "\n",
       "     SLG    OPS  Opp. Starter (GmeSc)  hit_bins labels  \n",
       "0  0.367  0.728                A.Nola         2      4  \n",
       "1  0.470  0.825             N.Pivetta         2      5  \n",
       "2  0.368  0.708             J.Arrieta         2      1  \n",
       "3  0.427  0.795           K.Hendricks         2      0  \n",
       "4  0.441  0.817              J.Lester         2      4  \n",
       "\n",
       "[5 rows x 22 columns]"
      ]
     },
     "execution_count": 41,
     "metadata": {},
     "output_type": "execute_result"
    }
   ],
   "source": [
    "data_df['labels'] = labels\n",
    "attributes.append('labels')\n",
    "\n",
    "# Print the first rows of `df`\n",
    "data_df.head()"
   ]
  },
  {
   "cell_type": "code",
   "execution_count": 133,
   "metadata": {
    "ExecuteTime": {
     "end_time": "2020-06-29T13:18:08.106606Z",
     "start_time": "2020-06-29T13:18:08.083649Z"
    }
   },
   "outputs": [],
   "source": [
    "num_cols = ['PA', 'AB', 'R', 'H', '2B', '3B', 'HR', 'RBI',\n",
    "       'BB', 'IBB', 'SO', 'ROE', 'SB', 'BA', 'SLG', 'OPS', 'labels', 'Rslt'\n",
    "       ]\n",
    "data=data_df[num_cols]\n",
    "\n",
    "train = data.sample(frac=0.75, random_state=1)\n",
    "test = data.loc[~data.index.isin(train.index)]\n",
    "\n",
    "x_train = train[attributes]\n",
    "y_train = train['Rslt']\n",
    "x_test = test[attributes]\n",
    "y_test = test['Rslt']"
   ]
  },
  {
   "cell_type": "markdown",
   "metadata": {
    "ExecuteTime": {
     "end_time": "2020-06-29T13:15:12.264361Z",
     "start_time": "2020-06-29T13:15:12.252805Z"
    }
   },
   "source": [
    "Here we are creating a model to determine our ability to predict the result based on the data provided throughout a season and determine if give the provided data a model can be created to accurately predict the result of a particular given game. "
   ]
  },
  {
   "cell_type": "code",
   "execution_count": 134,
   "metadata": {
    "ExecuteTime": {
     "end_time": "2020-06-29T13:18:09.050828Z",
     "start_time": "2020-06-29T13:18:09.029029Z"
    }
   },
   "outputs": [
    {
     "name": "stdout",
     "output_type": "stream",
     "text": [
      "0.3922009257092688\n",
      "[ 0.63880199  0.92926195  0.5543073   0.46710779  0.83530545  0.49487821\n",
      "  0.82332197  0.60255316  0.24451183  0.16953551  0.81868119 -0.24077974\n",
      "  1.1066538   0.48950692  0.17629844  0.36114219  0.89343522  0.64548067\n",
      "  1.48430622  1.33328704  0.37423865  0.82605636  0.46110203  0.14906376\n",
      "  1.07885472  0.73101191  0.38620497 -0.82707437  0.22169401  0.79054386\n",
      "  1.18161317  0.55069677  0.97755823  0.3867639   0.68690898  0.7968166\n",
      "  0.79825573  0.57832276  0.66558962  0.73504176]\n"
     ]
    }
   ],
   "source": [
    "from sklearn.linear_model import LinearRegression\n",
    "\n",
    "# Import `mean_absolute_error` from `sklearn.metrics`\n",
    "from sklearn.metrics import mean_absolute_error\n",
    "\n",
    "# Create Linear Regression model, fit model, and make predictions\n",
    "lr = LinearRegression(normalize=True)\n",
    "lr.fit(x_train, y_train)\n",
    "predictions = lr.predict(x_test)\n",
    "\n",
    "# Determine mean absolute error\n",
    "mae = mean_absolute_error(y_test, predictions)\n",
    "\n",
    "# Print `mean absolute error' \n",
    "print(mae)\n",
    "print(predictions)"
   ]
  },
  {
   "cell_type": "markdown",
   "metadata": {
    "ExecuteTime": {
     "end_time": "2020-06-29T13:16:52.792508Z",
     "start_time": "2020-06-29T13:16:52.778031Z"
    }
   },
   "source": [
    "In statistics, mean absolute error (MAE) is a measure of errors between paired observations expressing the same phenomenon.  At 39% MAE, the model is by no means refined. Below we cross validate the results with RidgeCV with a similar output, confidence in predicting outcomes with the provided data is just not going to be accurate enough. Thus below we enter the second portion of the project, to predict particular player value as opposed to team value. "
   ]
  },
  {
   "cell_type": "code",
   "execution_count": 135,
   "metadata": {
    "ExecuteTime": {
     "end_time": "2020-06-29T13:20:11.335374Z",
     "start_time": "2020-06-29T13:20:11.303679Z"
    }
   },
   "outputs": [
    {
     "name": "stdout",
     "output_type": "stream",
     "text": [
      "0.39717158914083306\n"
     ]
    }
   ],
   "source": [
    "from sklearn.linear_model import RidgeCV\n",
    "\n",
    "# Create Ridge Linear Regression model, fit model, and make predictions\n",
    "rrm = RidgeCV(alphas=(0.01, 0.1, 1.0, 10.0), normalize=True)\n",
    "rrm.fit(x_train, y_train)\n",
    "predictions_rrm = rrm.predict(x_test)\n",
    "\n",
    "# Determine mean absolute error\n",
    "mae_rrm = mean_absolute_error(y_test, predictions_rrm)\n",
    "print(mae_rrm)"
   ]
  },
  {
   "cell_type": "markdown",
   "metadata": {},
   "source": [
    "# PART II: Evaluating player value using WAR"
   ]
  },
  {
   "cell_type": "markdown",
   "metadata": {},
   "source": [
    "In part 2 we are going to look at individual player performance league wide from the same time series, 2019, and examine the totality of their statistics over that given time-frame. In this data we have a ton of statistical metrics to look at and compare, but mostly we will focus on WAR. We will provide a more in dept description of war in writeup below. "
   ]
  },
  {
   "cell_type": "code",
   "execution_count": 45,
   "metadata": {
    "ExecuteTime": {
     "end_time": "2020-06-29T12:23:32.337970Z",
     "start_time": "2020-06-29T12:23:32.296442Z"
    }
   },
   "outputs": [
    {
     "data": {
      "text/html": [
       "<div>\n",
       "<style scoped>\n",
       "    .dataframe tbody tr th:only-of-type {\n",
       "        vertical-align: middle;\n",
       "    }\n",
       "\n",
       "    .dataframe tbody tr th {\n",
       "        vertical-align: top;\n",
       "    }\n",
       "\n",
       "    .dataframe thead th {\n",
       "        text-align: right;\n",
       "    }\n",
       "</style>\n",
       "<table border=\"1\" class=\"dataframe\">\n",
       "  <thead>\n",
       "    <tr style=\"text-align: right;\">\n",
       "      <th></th>\n",
       "      <th>Name</th>\n",
       "      <th>Team</th>\n",
       "      <th>G</th>\n",
       "      <th>PA</th>\n",
       "      <th>HR</th>\n",
       "      <th>R</th>\n",
       "      <th>RBI</th>\n",
       "      <th>SB</th>\n",
       "      <th>BB%</th>\n",
       "      <th>K%</th>\n",
       "      <th>...</th>\n",
       "      <th>AVG</th>\n",
       "      <th>OBP</th>\n",
       "      <th>SLG</th>\n",
       "      <th>wOBA</th>\n",
       "      <th>wRC+</th>\n",
       "      <th>BsR</th>\n",
       "      <th>Off</th>\n",
       "      <th>Def</th>\n",
       "      <th>WAR</th>\n",
       "      <th>playerid</th>\n",
       "    </tr>\n",
       "  </thead>\n",
       "  <tbody>\n",
       "    <tr>\n",
       "      <td>0</td>\n",
       "      <td>Mike Trout</td>\n",
       "      <td>Angels</td>\n",
       "      <td>134</td>\n",
       "      <td>600</td>\n",
       "      <td>45</td>\n",
       "      <td>110</td>\n",
       "      <td>104</td>\n",
       "      <td>11</td>\n",
       "      <td>18.3%</td>\n",
       "      <td>20.0%</td>\n",
       "      <td>...</td>\n",
       "      <td>0.291</td>\n",
       "      <td>0.438</td>\n",
       "      <td>0.645</td>\n",
       "      <td>0.436</td>\n",
       "      <td>180</td>\n",
       "      <td>7.1</td>\n",
       "      <td>68.2</td>\n",
       "      <td>-0.3</td>\n",
       "      <td>8.6</td>\n",
       "      <td>10155</td>\n",
       "    </tr>\n",
       "    <tr>\n",
       "      <td>1</td>\n",
       "      <td>Alex Bregman</td>\n",
       "      <td>Astros</td>\n",
       "      <td>156</td>\n",
       "      <td>690</td>\n",
       "      <td>41</td>\n",
       "      <td>122</td>\n",
       "      <td>112</td>\n",
       "      <td>5</td>\n",
       "      <td>17.2%</td>\n",
       "      <td>12.0%</td>\n",
       "      <td>...</td>\n",
       "      <td>0.296</td>\n",
       "      <td>0.423</td>\n",
       "      <td>0.592</td>\n",
       "      <td>0.418</td>\n",
       "      <td>168</td>\n",
       "      <td>-2.1</td>\n",
       "      <td>58.2</td>\n",
       "      <td>4.8</td>\n",
       "      <td>8.5</td>\n",
       "      <td>17678</td>\n",
       "    </tr>\n",
       "    <tr>\n",
       "      <td>2</td>\n",
       "      <td>Christian Yelich</td>\n",
       "      <td>Brewers</td>\n",
       "      <td>130</td>\n",
       "      <td>580</td>\n",
       "      <td>44</td>\n",
       "      <td>100</td>\n",
       "      <td>97</td>\n",
       "      <td>30</td>\n",
       "      <td>13.8%</td>\n",
       "      <td>20.3%</td>\n",
       "      <td>...</td>\n",
       "      <td>0.329</td>\n",
       "      <td>0.429</td>\n",
       "      <td>0.671</td>\n",
       "      <td>0.442</td>\n",
       "      <td>174</td>\n",
       "      <td>8.5</td>\n",
       "      <td>65.2</td>\n",
       "      <td>-3.9</td>\n",
       "      <td>7.8</td>\n",
       "      <td>11477</td>\n",
       "    </tr>\n",
       "    <tr>\n",
       "      <td>3</td>\n",
       "      <td>Cody Bellinger</td>\n",
       "      <td>Dodgers</td>\n",
       "      <td>156</td>\n",
       "      <td>660</td>\n",
       "      <td>47</td>\n",
       "      <td>121</td>\n",
       "      <td>115</td>\n",
       "      <td>15</td>\n",
       "      <td>14.4%</td>\n",
       "      <td>16.4%</td>\n",
       "      <td>...</td>\n",
       "      <td>0.305</td>\n",
       "      <td>0.406</td>\n",
       "      <td>0.629</td>\n",
       "      <td>0.415</td>\n",
       "      <td>162</td>\n",
       "      <td>1.4</td>\n",
       "      <td>55.3</td>\n",
       "      <td>3.4</td>\n",
       "      <td>7.8</td>\n",
       "      <td>15998</td>\n",
       "    </tr>\n",
       "    <tr>\n",
       "      <td>4</td>\n",
       "      <td>Marcus Semien</td>\n",
       "      <td>Athletics</td>\n",
       "      <td>162</td>\n",
       "      <td>747</td>\n",
       "      <td>33</td>\n",
       "      <td>123</td>\n",
       "      <td>92</td>\n",
       "      <td>10</td>\n",
       "      <td>11.6%</td>\n",
       "      <td>13.7%</td>\n",
       "      <td>...</td>\n",
       "      <td>0.285</td>\n",
       "      <td>0.369</td>\n",
       "      <td>0.522</td>\n",
       "      <td>0.373</td>\n",
       "      <td>137</td>\n",
       "      <td>1.7</td>\n",
       "      <td>37.5</td>\n",
       "      <td>14.1</td>\n",
       "      <td>7.6</td>\n",
       "      <td>12533</td>\n",
       "    </tr>\n",
       "  </tbody>\n",
       "</table>\n",
       "<p>5 rows × 22 columns</p>\n",
       "</div>"
      ],
      "text/plain": [
       "               Name       Team    G   PA  HR    R  RBI  SB    BB%     K%  ...  \\\n",
       "0        Mike Trout     Angels  134  600  45  110  104  11  18.3%  20.0%  ...   \n",
       "1      Alex Bregman     Astros  156  690  41  122  112   5  17.2%  12.0%  ...   \n",
       "2  Christian Yelich    Brewers  130  580  44  100   97  30  13.8%  20.3%  ...   \n",
       "3    Cody Bellinger    Dodgers  156  660  47  121  115  15  14.4%  16.4%  ...   \n",
       "4     Marcus Semien  Athletics  162  747  33  123   92  10  11.6%  13.7%  ...   \n",
       "\n",
       "     AVG    OBP    SLG   wOBA  wRC+  BsR   Off   Def  WAR  playerid  \n",
       "0  0.291  0.438  0.645  0.436   180  7.1  68.2  -0.3  8.6     10155  \n",
       "1  0.296  0.423  0.592  0.418   168 -2.1  58.2   4.8  8.5     17678  \n",
       "2  0.329  0.429  0.671  0.442   174  8.5  65.2  -3.9  7.8     11477  \n",
       "3  0.305  0.406  0.629  0.415   162  1.4  55.3   3.4  7.8     15998  \n",
       "4  0.285  0.369  0.522  0.373   137  1.7  37.5  14.1  7.6     12533  \n",
       "\n",
       "[5 rows x 22 columns]"
      ]
     },
     "execution_count": 45,
     "metadata": {},
     "output_type": "execute_result"
    }
   ],
   "source": [
    "batting_stats_df.head()"
   ]
  },
  {
   "cell_type": "code",
   "execution_count": 46,
   "metadata": {
    "ExecuteTime": {
     "end_time": "2020-06-29T12:23:33.255984Z",
     "start_time": "2020-06-29T12:23:33.244934Z"
    }
   },
   "outputs": [
    {
     "data": {
      "text/plain": [
       "Index(['Name', 'Team', 'G', 'PA', 'HR', 'R', 'RBI', 'SB', 'BB%', 'K%', 'ISO',\n",
       "       'BABIP', 'AVG', 'OBP', 'SLG', 'wOBA', 'wRC+', 'BsR', 'Off', 'Def',\n",
       "       'WAR', 'playerid'],\n",
       "      dtype='object')"
      ]
     },
     "execution_count": 46,
     "metadata": {},
     "output_type": "execute_result"
    }
   ],
   "source": [
    "batting_stats_df.columns"
   ]
  },
  {
   "cell_type": "code",
   "execution_count": 136,
   "metadata": {
    "ExecuteTime": {
     "end_time": "2020-06-29T13:24:28.848696Z",
     "start_time": "2020-06-29T13:24:27.872019Z"
    }
   },
   "outputs": [
    {
     "data": {
      "text/plain": [
       "Text(0.5, 1.0, 'Distribution of WAR')"
      ]
     },
     "execution_count": 136,
     "metadata": {},
     "output_type": "execute_result"
    },
    {
     "data": {
      "image/png": "[encoded data removed]",
      "text/plain": [
       "<Figure size 1080x864 with 4 Axes>"
      ]
     },
     "metadata": {
      "needs_background": "light"
     },
     "output_type": "display_data"
    }
   ],
   "source": [
    "fig = plt.figure(figsize=(15, 12))\n",
    "ax1 = fig.add_subplot(2,2,1)\n",
    "ax2 = fig.add_subplot(2,2,2)\n",
    "ax3 = fig.add_subplot(2,2,3)\n",
    "ax4 = fig.add_subplot(2,2,4)\n",
    "\n",
    "# Create distribution plots for Hits, Home Runs, Years Played and All Star Games\n",
    "ax1.hist(batting_stats_df['AVG'])\n",
    "ax1.set_title('Distribution of Batting Average')\n",
    "\n",
    "ax2.hist(batting_stats_df['HR'])\n",
    "ax2.set_title('Distribution of Home Runs')\n",
    "ax3.hist(batting_stats_df['SLG'])\n",
    "ax3.set_title('Distribution of Slugging Percentage')\n",
    "ax4.hist(batting_stats_df['WAR'])\n",
    "ax4.set_title('Distribution of WAR')"
   ]
  },
  {
   "cell_type": "markdown",
   "metadata": {},
   "source": [
    "Here we created a number of distribution plots to examine some of the most popular offensive statistics, Batting average, Home Run totals, WAR, and Slugging percentage. "
   ]
  },
  {
   "cell_type": "code",
   "execution_count": 48,
   "metadata": {
    "ExecuteTime": {
     "end_time": "2020-06-29T12:23:36.393100Z",
     "start_time": "2020-06-29T12:23:35.884103Z"
    }
   },
   "outputs": [
    {
     "data": {
      "text/plain": [
       "Text(0, 0.5, 'Slugging%')"
      ]
     },
     "execution_count": 48,
     "metadata": {},
     "output_type": "execute_result"
    },
    {
     "data": {
      "image/png": "[encoded data removed]",
      "text/plain": [
       "<Figure size 1008x504 with 2 Axes>"
      ]
     },
     "metadata": {
      "needs_background": "light"
     },
     "output_type": "display_data"
    }
   ],
   "source": [
    "fig = plt.figure(figsize=(14, 7))\n",
    "ax1 = fig.add_subplot(1,2,1)\n",
    "ax2 = fig.add_subplot(1,2,2)\n",
    "\n",
    "# Create Scatter plots for Hits vs. Average and Home Runs vs. Average\n",
    "ax1.scatter(batting_stats_df['HR'], batting_stats_df['AVG'], c='r', label='Top Player')\n",
    "ax1.set_title('Season HR vs. Season Batting Average')\n",
    "ax1.set_xlabel('Season HR')\n",
    "ax1.set_ylabel('Season Average')\n",
    "ax2.scatter(batting_stats_df['WAR'], batting_stats_df['SLG'])\n",
    "ax2.set_title('Season WAR vs. Season Slugging')\n",
    "ax2.set_xlabel('WAR')\n",
    "ax2.set_ylabel('Slugging%')"
   ]
  },
  {
   "cell_type": "markdown",
   "metadata": {},
   "source": [
    "As seen in the above scatter plots, average and HR total are not necissarily correlated, as players can hit for power without average and inversely can hit for average with limited power. To see a clearer picture of this we can adjust the output to see slugging percentage which takes into account weighted power, compared to WAR, or a players wins against the league average player at a given position. "
   ]
  },
  {
   "cell_type": "code",
   "execution_count": 128,
   "metadata": {
    "ExecuteTime": {
     "end_time": "2020-06-29T12:47:46.025537Z",
     "start_time": "2020-06-29T12:47:45.760705Z"
    }
   },
   "outputs": [
    {
     "data": {
      "image/png": "[encoded data removed]",
      "text/plain": [
       "<Figure size 1008x504 with 1 Axes>"
      ]
     },
     "metadata": {
      "needs_background": "light"
     },
     "output_type": "display_data"
    }
   ],
   "source": [
    "fig = plt.figure(figsize=(14, 7))\n",
    "ax4 = fig.add_subplot(1,2,1)\n",
    "ax4.scatter(batting_stats_df['Def'], batting_stats_df['WAR'], c='r')\n",
    "ax4.set_title('Season WAR vs. Defense Metrics')\n",
    "ax4.set_xlabel('WAR')\n",
    "ax4.set_ylabel('Defense')\n",
    "plt.show()"
   ]
  },
  {
   "cell_type": "markdown",
   "metadata": {},
   "source": [
    "Wins Above Replacement (WAR)\n",
    "Definition\n",
    "\n",
    "WAR measures a player's value in all facets of the game by deciphering how many more wins he's worth than a replacement-level player at his same position (e.g., a Minor League replacement or a readily available fill-in free agent).\n",
    "\n",
    "For example, if a shortstop and a first baseman offer the same overall production (on offense, defense and the basepaths), the shortstop will have a better WAR because his position sees a lower level of production from replacement-level players.\n",
    "The formula\n",
    "\n",
    "For position players: (The number of runs above average a player is worth in his batting, baserunning and fielding + adjustment for position + adjustment for league + the number of runs provided by a replacement-level player) / runs per win\n",
    "\n",
    "For pitchers: Different WAR computations use either RA9 or FIP. Those numbers are adjusted for league and ballpark. Then, using league averages, it is determined how many wins a pitcher was worth based on those numbers and his innings pitched total.\n",
    "\n",
    "Note: fWAR refers to Fangraphs' calculation of WAR. bWAR or rWAR refer to Baseball-Reference's calculation. And WARP refers to Baseball Prospectus' statistic \"Wins Above Replacement Player.\" The calculations differ slightly -- for instance, fWAR uses FIP in determining pitcher WAR, while bWAR uses RA9. But all three stats answer the same question: How valuable is a player in comparison to replacement level?\n",
    "Why it's useful\n",
    "\n",
    "WAR quantifies each player's value in terms of a specific numbers of wins. And because WAR factors in a positional adjustment, it is well suited for comparing players who man different defensive positions.\n"
   ]
  },
  {
   "cell_type": "code",
   "execution_count": 109,
   "metadata": {
    "ExecuteTime": {
     "end_time": "2020-06-29T12:43:42.542055Z",
     "start_time": "2020-06-29T12:43:42.498911Z"
    }
   },
   "outputs": [
    {
     "data": {
      "text/html": [
       "<div>\n",
       "<style scoped>\n",
       "    .dataframe tbody tr th:only-of-type {\n",
       "        vertical-align: middle;\n",
       "    }\n",
       "\n",
       "    .dataframe tbody tr th {\n",
       "        vertical-align: top;\n",
       "    }\n",
       "\n",
       "    .dataframe thead th {\n",
       "        text-align: right;\n",
       "    }\n",
       "</style>\n",
       "<table border=\"1\" class=\"dataframe\">\n",
       "  <thead>\n",
       "    <tr style=\"text-align: right;\">\n",
       "      <th></th>\n",
       "      <th>G</th>\n",
       "      <th>PA</th>\n",
       "      <th>HR</th>\n",
       "      <th>R</th>\n",
       "      <th>RBI</th>\n",
       "      <th>SB</th>\n",
       "      <th>wRC+</th>\n",
       "      <th>BsR</th>\n",
       "      <th>Off</th>\n",
       "      <th>Def</th>\n",
       "      <th>WAR</th>\n",
       "    </tr>\n",
       "  </thead>\n",
       "  <tbody>\n",
       "    <tr>\n",
       "      <td>0</td>\n",
       "      <td>134</td>\n",
       "      <td>600</td>\n",
       "      <td>45</td>\n",
       "      <td>110</td>\n",
       "      <td>104</td>\n",
       "      <td>11</td>\n",
       "      <td>180</td>\n",
       "      <td>7.1</td>\n",
       "      <td>68.2</td>\n",
       "      <td>-0.3</td>\n",
       "      <td>8.6</td>\n",
       "    </tr>\n",
       "    <tr>\n",
       "      <td>1</td>\n",
       "      <td>156</td>\n",
       "      <td>690</td>\n",
       "      <td>41</td>\n",
       "      <td>122</td>\n",
       "      <td>112</td>\n",
       "      <td>5</td>\n",
       "      <td>168</td>\n",
       "      <td>-2.1</td>\n",
       "      <td>58.2</td>\n",
       "      <td>4.8</td>\n",
       "      <td>8.5</td>\n",
       "    </tr>\n",
       "    <tr>\n",
       "      <td>2</td>\n",
       "      <td>130</td>\n",
       "      <td>580</td>\n",
       "      <td>44</td>\n",
       "      <td>100</td>\n",
       "      <td>97</td>\n",
       "      <td>30</td>\n",
       "      <td>174</td>\n",
       "      <td>8.5</td>\n",
       "      <td>65.2</td>\n",
       "      <td>-3.9</td>\n",
       "      <td>7.8</td>\n",
       "    </tr>\n",
       "    <tr>\n",
       "      <td>3</td>\n",
       "      <td>156</td>\n",
       "      <td>660</td>\n",
       "      <td>47</td>\n",
       "      <td>121</td>\n",
       "      <td>115</td>\n",
       "      <td>15</td>\n",
       "      <td>162</td>\n",
       "      <td>1.4</td>\n",
       "      <td>55.3</td>\n",
       "      <td>3.4</td>\n",
       "      <td>7.8</td>\n",
       "    </tr>\n",
       "    <tr>\n",
       "      <td>4</td>\n",
       "      <td>162</td>\n",
       "      <td>747</td>\n",
       "      <td>33</td>\n",
       "      <td>123</td>\n",
       "      <td>92</td>\n",
       "      <td>10</td>\n",
       "      <td>137</td>\n",
       "      <td>1.7</td>\n",
       "      <td>37.5</td>\n",
       "      <td>14.1</td>\n",
       "      <td>7.6</td>\n",
       "    </tr>\n",
       "    <tr>\n",
       "      <td>...</td>\n",
       "      <td>...</td>\n",
       "      <td>...</td>\n",
       "      <td>...</td>\n",
       "      <td>...</td>\n",
       "      <td>...</td>\n",
       "      <td>...</td>\n",
       "      <td>...</td>\n",
       "      <td>...</td>\n",
       "      <td>...</td>\n",
       "      <td>...</td>\n",
       "      <td>...</td>\n",
       "    </tr>\n",
       "    <tr>\n",
       "      <td>130</td>\n",
       "      <td>136</td>\n",
       "      <td>549</td>\n",
       "      <td>12</td>\n",
       "      <td>41</td>\n",
       "      <td>59</td>\n",
       "      <td>0</td>\n",
       "      <td>96</td>\n",
       "      <td>-6.3</td>\n",
       "      <td>-8.9</td>\n",
       "      <td>-13.9</td>\n",
       "      <td>-0.3</td>\n",
       "    </tr>\n",
       "    <tr>\n",
       "      <td>131</td>\n",
       "      <td>160</td>\n",
       "      <td>667</td>\n",
       "      <td>22</td>\n",
       "      <td>72</td>\n",
       "      <td>99</td>\n",
       "      <td>0</td>\n",
       "      <td>91</td>\n",
       "      <td>-5.2</td>\n",
       "      <td>-13.1</td>\n",
       "      <td>-12.4</td>\n",
       "      <td>-0.4</td>\n",
       "    </tr>\n",
       "    <tr>\n",
       "      <td>132</td>\n",
       "      <td>131</td>\n",
       "      <td>545</td>\n",
       "      <td>23</td>\n",
       "      <td>55</td>\n",
       "      <td>93</td>\n",
       "      <td>3</td>\n",
       "      <td>93</td>\n",
       "      <td>-4.4</td>\n",
       "      <td>-9.3</td>\n",
       "      <td>-13.9</td>\n",
       "      <td>-0.4</td>\n",
       "    </tr>\n",
       "    <tr>\n",
       "      <td>133</td>\n",
       "      <td>152</td>\n",
       "      <td>546</td>\n",
       "      <td>15</td>\n",
       "      <td>51</td>\n",
       "      <td>59</td>\n",
       "      <td>8</td>\n",
       "      <td>61</td>\n",
       "      <td>0.9</td>\n",
       "      <td>-27.3</td>\n",
       "      <td>5.4</td>\n",
       "      <td>-0.4</td>\n",
       "    </tr>\n",
       "    <tr>\n",
       "      <td>134</td>\n",
       "      <td>133</td>\n",
       "      <td>533</td>\n",
       "      <td>23</td>\n",
       "      <td>61</td>\n",
       "      <td>73</td>\n",
       "      <td>0</td>\n",
       "      <td>81</td>\n",
       "      <td>-2.2</td>\n",
       "      <td>-15.2</td>\n",
       "      <td>-13.5</td>\n",
       "      <td>-1.0</td>\n",
       "    </tr>\n",
       "  </tbody>\n",
       "</table>\n",
       "<p>135 rows × 11 columns</p>\n",
       "</div>"
      ],
      "text/plain": [
       "       G   PA  HR    R  RBI  SB  wRC+  BsR   Off   Def  WAR\n",
       "0    134  600  45  110  104  11   180  7.1  68.2  -0.3  8.6\n",
       "1    156  690  41  122  112   5   168 -2.1  58.2   4.8  8.5\n",
       "2    130  580  44  100   97  30   174  8.5  65.2  -3.9  7.8\n",
       "3    156  660  47  121  115  15   162  1.4  55.3   3.4  7.8\n",
       "4    162  747  33  123   92  10   137  1.7  37.5  14.1  7.6\n",
       "..   ...  ...  ..  ...  ...  ..   ...  ...   ...   ...  ...\n",
       "130  136  549  12   41   59   0    96 -6.3  -8.9 -13.9 -0.3\n",
       "131  160  667  22   72   99   0    91 -5.2 -13.1 -12.4 -0.4\n",
       "132  131  545  23   55   93   3    93 -4.4  -9.3 -13.9 -0.4\n",
       "133  152  546  15   51   59   8    61  0.9 -27.3   5.4 -0.4\n",
       "134  133  533  23   61   73   0    81 -2.2 -15.2 -13.5 -1.0\n",
       "\n",
       "[135 rows x 11 columns]"
      ]
     },
     "execution_count": 109,
     "metadata": {},
     "output_type": "execute_result"
    }
   ],
   "source": [
    "data=batting_stats_df.drop(['Name', 'Team', 'playerid', 'BB%', 'K%', 'BABIP', 'AVG', 'OBP', 'SLG', 'wOBA', 'ISO'], axis=1)\n",
    "data.dropna()"
   ]
  },
  {
   "cell_type": "code",
   "execution_count": 110,
   "metadata": {
    "ExecuteTime": {
     "end_time": "2020-06-29T12:43:43.528402Z",
     "start_time": "2020-06-29T12:43:43.516277Z"
    }
   },
   "outputs": [],
   "source": [
    "data_int= data.astype(int)"
   ]
  },
  {
   "cell_type": "markdown",
   "metadata": {
    "ExecuteTime": {
     "end_time": "2020-06-29T12:41:07.113545Z",
     "start_time": "2020-06-29T12:41:07.083606Z"
    }
   },
   "source": [
    "For the below model we have decided to stay within the Sklean library, it is powerful and lightweight and allows us to utilize out data to create an itemized table to predict a give war value. "
   ]
  },
  {
   "cell_type": "code",
   "execution_count": 111,
   "metadata": {
    "ExecuteTime": {
     "end_time": "2020-06-29T12:43:44.923396Z",
     "start_time": "2020-06-29T12:43:44.916150Z"
    }
   },
   "outputs": [],
   "source": [
    "#importing additional libraries\n",
    "from sklearn.linear_model import LogisticRegression\n",
    "from sklearn.model_selection import train_test_split\n",
    "\n"
   ]
  },
  {
   "cell_type": "code",
   "execution_count": 112,
   "metadata": {
    "ExecuteTime": {
     "end_time": "2020-06-29T12:43:45.415878Z",
     "start_time": "2020-06-29T12:43:45.403889Z"
    }
   },
   "outputs": [],
   "source": [
    "#defining train/test data\n",
    "y = data_int['WAR']\n",
    "X = data_int.drop(columns=['WAR'], axis=1)"
   ]
  },
  {
   "cell_type": "code",
   "execution_count": 119,
   "metadata": {
    "ExecuteTime": {
     "end_time": "2020-06-29T12:44:49.705068Z",
     "start_time": "2020-06-29T12:44:49.679439Z"
    }
   },
   "outputs": [],
   "source": [
    "#Normalization of data\n",
    "X = X.apply(lambda x : (x - x.min()) /(x.max() - x.min()), axis=0)"
   ]
  },
  {
   "cell_type": "code",
   "execution_count": 114,
   "metadata": {
    "ExecuteTime": {
     "end_time": "2020-06-29T12:43:46.367286Z",
     "start_time": "2020-06-29T12:43:46.355149Z"
    }
   },
   "outputs": [],
   "source": [
    "# Test train split \n",
    "X_train, X_test, y_train, y_test = train_test_split(X, y, random_state=0)\n",
    "\n"
   ]
  },
  {
   "cell_type": "code",
   "execution_count": 115,
   "metadata": {
    "ExecuteTime": {
     "end_time": "2020-06-29T12:43:47.132102Z",
     "start_time": "2020-06-29T12:43:47.103364Z"
    }
   },
   "outputs": [
    {
     "data": {
      "text/plain": [
       "LogisticRegression(C=1000000000000.0, class_weight=None, dual=False,\n",
       "                   fit_intercept=False, intercept_scaling=1, l1_ratio=None,\n",
       "                   max_iter=100, multi_class='auto', n_jobs=None, penalty='l2',\n",
       "                   random_state=None, solver='liblinear', tol=0.0001, verbose=0,\n",
       "                   warm_start=False)"
      ]
     },
     "execution_count": 115,
     "metadata": {},
     "output_type": "execute_result"
    }
   ],
   "source": [
    "logreg = LogisticRegression(fit_intercept=False, C=1e12, solver='liblinear')\n",
    "\n",
    "# Fit the model\n",
    "logreg.fit(X_train, y_train)"
   ]
  },
  {
   "cell_type": "code",
   "execution_count": 116,
   "metadata": {
    "ExecuteTime": {
     "end_time": "2020-06-29T12:44:06.890313Z",
     "start_time": "2020-06-29T12:44:06.875606Z"
    }
   },
   "outputs": [],
   "source": [
    "y_hat_train = logreg.predict(X_train)\n",
    "y_hat_test = logreg.predict(X_test)\n",
    "# Running our regression model\n"
   ]
  },
  {
   "cell_type": "code",
   "execution_count": 117,
   "metadata": {
    "ExecuteTime": {
     "end_time": "2020-06-29T12:44:16.854051Z",
     "start_time": "2020-06-29T12:44:16.833563Z"
    }
   },
   "outputs": [
    {
     "name": "stdout",
     "output_type": "stream",
     "text": [
      "0    67\n",
      "1    17\n",
      "2    14\n",
      "3     2\n",
      "4     1\n",
      "Name: WAR, dtype: int64\n",
      "------------------------------------\n",
      "0    0.663366\n",
      "1    0.168317\n",
      "2    0.138614\n",
      "3    0.019802\n",
      "4    0.009901\n",
      "Name: WAR, dtype: float64\n"
     ]
    }
   ],
   "source": [
    "residuals = np.abs(y_train - y_hat_train)\n",
    "print(pd.Series(residuals).value_counts())\n",
    "print('------------------------------------')\n",
    "print(pd.Series(residuals).value_counts(normalize=True))"
   ]
  },
  {
   "cell_type": "markdown",
   "metadata": {},
   "source": [
    "As seen here for our positive war values, the prediction confidence for each WAR bucket decreases as the accuracy greatly decreased for higher war players in both the training and test set. This is most likely due to the fact that of all qualifying players less than 1% achive a war greater than 5, so with so many variable attributing to these outlier performances a player has to have an absolutely absurdly high performing season to hit these benchmarks. Overall this project was successful in determining the difficulty in building viable models to predict outcomes of games, which when you parlay that information with actual baseball games this is not surprising. Many seasons have been won or lost on a single play. On average a 3 hour baseball game has only 8 minutes of live ball play, which only goes to show the statistical importance a single play can have on a team and individual players statistics. Moving forward I would like to expand on this model and hopefully with the support I Have requested from Microsoft on getting their 'TrueSkill' model to work I can add that as an additional factor to improve the accuracy of player performance metrics. "
   ]
  },
  {
   "cell_type": "code",
   "execution_count": 118,
   "metadata": {
    "ExecuteTime": {
     "end_time": "2020-06-29T12:44:28.942594Z",
     "start_time": "2020-06-29T12:44:28.902928Z"
    }
   },
   "outputs": [
    {
     "name": "stdout",
     "output_type": "stream",
     "text": [
      "1    13\n",
      "2     7\n",
      "0     6\n",
      "3     5\n",
      "4     2\n",
      "5     1\n",
      "Name: WAR, dtype: int64\n",
      "------------------------------------\n",
      "1    0.382353\n",
      "2    0.205882\n",
      "0    0.176471\n",
      "3    0.147059\n",
      "4    0.058824\n",
      "5    0.029412\n",
      "Name: WAR, dtype: float64\n"
     ]
    }
   ],
   "source": [
    "residuals = np.abs(y_test - y_hat_test)\n",
    "print(pd.Series(residuals).value_counts())\n",
    "print('------------------------------------')\n",
    "print(pd.Series(residuals).value_counts(normalize=True))"
   ]
  },
  {
   "cell_type": "code",
   "execution_count": null,
   "metadata": {},
   "outputs": [],
   "source": []
  }
 ],
 "metadata": {
  "kernelspec": {
   "display_name": "Python [conda env:learn-env] *",
   "language": "python",
   "name": "conda-env-learn-env-py"
  },
  "language_info": {
   "codemirror_mode": {
    "name": "ipython",
    "version": 3
   },
   "file_extension": ".py",
   "mimetype": "text/x-python",
   "name": "python",
   "nbconvert_exporter": "python",
   "pygments_lexer": "ipython3",
   "version": "3.6.9"
  },
  "toc": {
   "base_numbering": 1,
   "nav_menu": {},
   "number_sections": true,
   "sideBar": true,
   "skip_h1_title": false,
   "title_cell": "Table of Contents",
   "title_sidebar": "Contents",
   "toc_cell": false,
   "toc_position": {},
   "toc_section_display": true,
   "toc_window_display": false
  }
 },
 "nbformat": 4,
 "nbformat_minor": 2
}
